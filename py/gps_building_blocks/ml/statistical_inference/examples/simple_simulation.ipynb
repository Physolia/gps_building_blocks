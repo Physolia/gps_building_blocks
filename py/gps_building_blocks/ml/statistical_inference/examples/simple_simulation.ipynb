{
  "cells": [
    {
      "cell_type": "code",
      "execution_count": null,
      "metadata": {
        "id": "oel9ICRcA7mm"
      },
      "outputs": [],
      "source": [
        "# Copyright 2020 Google LLC\n",
        "#\n",
        "# Licensed under the Apache License, Version 2.0 (the \"License\");\n",
        "# you may not use this file except in compliance with the License.\n",
        "# You may obtain a copy of the License at\n",
        "#\n",
        "#      http://www.apache.org/licenses/LICENSE-2.0\n",
        "#\n",
        "# Unless required by applicable law or agreed to in writing, software\n",
        "# distributed under the License is distributed on an \"AS IS\" BASIS,\n",
        "# WITHOUT WARRANTIES OR CONDITIONS OF ANY KIND, either express or implied.\n",
        "# See the License for the specific language governing permissions and\n",
        "# limitations under the License.\n",
        "\n",
        "import pandas as pd\n",
        "import numpy as np\n",
        "\n",
        "# BEGIN_PUBLIC\n",
        "from gps_building_blocks.py.ml.statistical_inference import data_preparation\n",
        "from gps_building_blocks.py.ml.statistical_inference import models\n",
        "# END_PUBLIC"
      ]
    },
    {
      "cell_type": "markdown",
      "metadata": {
        "id": "D7scsM_mcVTD"
      },
      "source": [
        "# Simulate some data\n",
        "Let's create some random simulated data, where the target variables will be\n",
        "```\n",
        "y = var1 * 0.1 + var2 * 5.0 + var3 * -0.5 + e\n",
        "```\n",
        "To complicate the problems, we're going to add adding the following type of variables:\n",
        "\n",
        "* `constant`: Variable with no variation that carries no information.\n",
        "* `collinear`: Collinear variables which are highly correlated. In our example we'll have an highly correlated variable and an identical copy to `var2`.\n",
        "* `random`: Random variables with no relationship with the target variable."
      ]
    },
    {
      "cell_type": "code",
      "execution_count": 67,
      "metadata": {
        "executionInfo": {
          "elapsed": 457,
          "status": "ok",
          "timestamp": 1611052342757,
          "user": {
            "displayName": "",
            "photoUrl": "",
            "userId": ""
          },
          "user_tz": 0
        },
        "id": "M1DSGRetSNVr"
      },
      "outputs": [],
      "source": [
        "def _correlate(series: pd.Series, correlation_value: int, seed: int = 0):\n",
        "  \"\"\"Generates a correlated random variables from a given series.\"\"\"\n",
        "  # https://stats.stackexchange.com/questions/38856/how-to-generate-correlated-random-numbers-given-means-variances-and-degree-of\n",
        "  np.random.seed(seed)\n",
        "  value_error_term = 1 - correlation_value**2\n",
        "  error_terms = np.random.normal(0, value_error_term**0.5, len(series))\n",
        "  return series * correlation_value + error_terms\n",
        "\n",
        "\n",
        "np.random.seed(18)\n",
        "data = pd.DataFrame(np.random.normal(0, 1, (100000, 6)))\n",
        "data[0] = (data[0] \u003e= 0.0).astype(int)\n",
        "\n",
        "data['constant'] = 1\n",
        "data['var1'] = data[0]\n",
        "data['var2'] = data[1]\n",
        "data['var3'] = data[2]\n",
        "data['collinear_var2a'] = data['var2']\n",
        "data['collinear_var2b'] = _correlate(data['var2'], correlation_value=0.95)\n",
        "data['random1'] = data[3]\n",
        "data['random2'] = data[4]\n",
        "data['random3'] = data[5]\n",
        "data['target'] = (\n",
        "    data['var1'] * 0.1 +\n",
        "    data['var2'] * 5.0 +\n",
        "    data['var3'] * -0.5 +\n",
        "    (np.random.rand(len(data))-0.5) # Adding Noise\n",
        "    )"
      ]
    },
    {
      "cell_type": "markdown",
      "metadata": {
        "id": "fwYgDnJddmsh"
      },
      "source": [
        "## These are the `collinear` variables introduced and their relationship with `var2`.\n",
        "This show that `var2` and `collinear_var2a` are identical, while `var2` and `collinear_var2b` are highly correlated."
      ]
    },
    {
      "cell_type": "code",
      "execution_count": 68,
      "metadata": {
        "colab": {
          "height": 549
        },
        "executionInfo": {
          "elapsed": 4426,
          "status": "ok",
          "timestamp": 1611052347190,
          "user": {
            "displayName": "",
            "photoUrl": "",
            "userId": ""
          },
          "user_tz": 0
        },
        "id": "xjmE6YmlbTKH",
        "outputId": "a7cc3805-aa76-46fb-e641-a735818e00bf"
      },
      "outputs": [
        {
          "data": {
            "image/png": "[encoded data removed]",
            "text/plain": [
              "\u003cFigure size 600x400 with 1 Axes\u003e"
            ]
          },
          "metadata": {
            "tags": []
          },
          "output_type": "display_data"
        },
        {
          "data": {
            "image/png": "[encoded data removed]",
            "text/plain": [
              "\u003cFigure size 600x400 with 1 Axes\u003e"
            ]
          },
          "metadata": {
            "tags": []
          },
          "output_type": "display_data"
        }
      ],
      "source": [
        "_ = data.plot.scatter('var2', 'collinear_var2b')\n",
        "_ = data.plot.scatter('var2', 'collinear_var2a')"
      ]
    },
    {
      "cell_type": "markdown",
      "metadata": {
        "id": "X81lIHO8d3aO"
      },
      "source": [
        "# Modelling\n",
        "## Preparing our `InferenceData` container."
      ]
    },
    {
      "cell_type": "code",
      "execution_count": 69,
      "metadata": {
        "colab": {
          "height": 419
        },
        "executionInfo": {
          "elapsed": 413,
          "status": "ok",
          "timestamp": 1611052347954,
          "user": {
            "displayName": "",
            "photoUrl": "",
            "userId": ""
          },
          "user_tz": 0
        },
        "id": "J2E6MfZYSkky",
        "outputId": "13fabae1-fe55-4fd9-c855-d64a50857dd4"
      },
      "outputs": [
        {
          "data": {
            "text/html": [
              "\u003cdiv\u003e\n",
              "\u003cstyle scoped\u003e\n",
              "    .dataframe tbody tr th:only-of-type {\n",
              "        vertical-align: middle;\n",
              "    }\n",
              "\n",
              "    .dataframe tbody tr th {\n",
              "        vertical-align: top;\n",
              "    }\n",
              "\n",
              "    .dataframe thead th {\n",
              "        text-align: right;\n",
              "    }\n",
              "\u003c/style\u003e\n",
              "\u003ctable border=\"1\" class=\"dataframe\"\u003e\n",
              "  \u003cthead\u003e\n",
              "    \u003ctr style=\"text-align: right;\"\u003e\n",
              "      \u003cth\u003e\u003c/th\u003e\n",
              "      \u003cth\u003econstant\u003c/th\u003e\n",
              "      \u003cth\u003ecollinear_var2a\u003c/th\u003e\n",
              "      \u003cth\u003ecollinear_var2b\u003c/th\u003e\n",
              "      \u003cth\u003evar1\u003c/th\u003e\n",
              "      \u003cth\u003evar2\u003c/th\u003e\n",
              "      \u003cth\u003evar3\u003c/th\u003e\n",
              "      \u003cth\u003erandom1\u003c/th\u003e\n",
              "      \u003cth\u003erandom2\u003c/th\u003e\n",
              "      \u003cth\u003erandom3\u003c/th\u003e\n",
              "      \u003cth\u003etarget\u003c/th\u003e\n",
              "    \u003c/tr\u003e\n",
              "  \u003c/thead\u003e\n",
              "  \u003ctbody\u003e\n",
              "    \u003ctr\u003e\n",
              "      \u003cth\u003e0\u003c/th\u003e\n",
              "      \u003ctd\u003e1\u003c/td\u003e\n",
              "      \u003ctd\u003e2.190202\u003c/td\u003e\n",
              "      \u003ctd\u003e2.631517\u003c/td\u003e\n",
              "      \u003ctd\u003e1\u003c/td\u003e\n",
              "      \u003ctd\u003e2.190202\u003c/td\u003e\n",
              "      \u003ctd\u003e-0.134892\u003c/td\u003e\n",
              "      \u003ctd\u003e0.160518\u003c/td\u003e\n",
              "      \u003ctd\u003e0.442698\u003c/td\u003e\n",
              "      \u003ctd\u003e0.623391\u003c/td\u003e\n",
              "      \u003ctd\u003e11.410044\u003c/td\u003e\n",
              "    \u003c/tr\u003e\n",
              "    \u003ctr\u003e\n",
              "      \u003cth\u003e1\u003c/th\u003e\n",
              "      \u003ctd\u003e1\u003c/td\u003e\n",
              "      \u003ctd\u003e0.394249\u003c/td\u003e\n",
              "      \u003ctd\u003e0.499485\u003c/td\u003e\n",
              "      \u003ctd\u003e1\u003c/td\u003e\n",
              "      \u003ctd\u003e0.394249\u003c/td\u003e\n",
              "      \u003ctd\u003e-0.336387\u003c/td\u003e\n",
              "      \u003ctd\u003e-0.645906\u003c/td\u003e\n",
              "      \u003ctd\u003e0.805458\u003c/td\u003e\n",
              "      \u003ctd\u003e0.416443\u003c/td\u003e\n",
              "      \u003ctd\u003e2.129917\u003c/td\u003e\n",
              "    \u003c/tr\u003e\n",
              "    \u003ctr\u003e\n",
              "      \u003cth\u003e2\u003c/th\u003e\n",
              "      \u003ctd\u003e1\u003c/td\u003e\n",
              "      \u003ctd\u003e-1.101671\u003c/td\u003e\n",
              "      \u003ctd\u003e-0.740977\u003c/td\u003e\n",
              "      \u003ctd\u003e1\u003c/td\u003e\n",
              "      \u003ctd\u003e-1.101671\u003c/td\u003e\n",
              "      \u003ctd\u003e-0.994757\u003c/td\u003e\n",
              "      \u003ctd\u003e1.345519\u003c/td\u003e\n",
              "      \u003ctd\u003e0.581868\u003c/td\u003e\n",
              "      \u003ctd\u003e0.537239\u003c/td\u003e\n",
              "      \u003ctd\u003e-4.499363\u003c/td\u003e\n",
              "    \u003c/tr\u003e\n",
              "    \u003ctr\u003e\n",
              "      \u003cth\u003e3\u003c/th\u003e\n",
              "      \u003ctd\u003e1\u003c/td\u003e\n",
              "      \u003ctd\u003e-0.290324\u003c/td\u003e\n",
              "      \u003ctd\u003e0.423911\u003c/td\u003e\n",
              "      \u003ctd\u003e1\u003c/td\u003e\n",
              "      \u003ctd\u003e-0.290324\u003c/td\u003e\n",
              "      \u003ctd\u003e0.601365\u003c/td\u003e\n",
              "      \u003ctd\u003e-0.564527\u003c/td\u003e\n",
              "      \u003ctd\u003e-1.167952\u003c/td\u003e\n",
              "      \u003ctd\u003e-1.022002\u003c/td\u003e\n",
              "      \u003ctd\u003e-1.292576\u003c/td\u003e\n",
              "    \u003c/tr\u003e\n",
              "    \u003ctr\u003e\n",
              "      \u003cth\u003e4\u003c/th\u003e\n",
              "      \u003ctd\u003e1\u003c/td\u003e\n",
              "      \u003ctd\u003e-0.533744\u003c/td\u003e\n",
              "      \u003ctd\u003e0.076088\u003c/td\u003e\n",
              "      \u003ctd\u003e1\u003c/td\u003e\n",
              "      \u003ctd\u003e-0.533744\u003c/td\u003e\n",
              "      \u003ctd\u003e-1.350432\u003c/td\u003e\n",
              "      \u003ctd\u003e0.230094\u003c/td\u003e\n",
              "      \u003ctd\u003e0.894855\u003c/td\u003e\n",
              "      \u003ctd\u003e1.370760\u003c/td\u003e\n",
              "      \u003ctd\u003e-2.305813\u003c/td\u003e\n",
              "    \u003c/tr\u003e\n",
              "    \u003ctr\u003e\n",
              "      \u003cth\u003e...\u003c/th\u003e\n",
              "      \u003ctd\u003e...\u003c/td\u003e\n",
              "      \u003ctd\u003e...\u003c/td\u003e\n",
              "      \u003ctd\u003e...\u003c/td\u003e\n",
              "      \u003ctd\u003e...\u003c/td\u003e\n",
              "      \u003ctd\u003e...\u003c/td\u003e\n",
              "      \u003ctd\u003e...\u003c/td\u003e\n",
              "      \u003ctd\u003e...\u003c/td\u003e\n",
              "      \u003ctd\u003e...\u003c/td\u003e\n",
              "      \u003ctd\u003e...\u003c/td\u003e\n",
              "      \u003ctd\u003e...\u003c/td\u003e\n",
              "    \u003c/tr\u003e\n",
              "    \u003ctr\u003e\n",
              "      \u003cth\u003e99995\u003c/th\u003e\n",
              "      \u003ctd\u003e1\u003c/td\u003e\n",
              "      \u003ctd\u003e0.796606\u003c/td\u003e\n",
              "      \u003ctd\u003e0.651324\u003c/td\u003e\n",
              "      \u003ctd\u003e1\u003c/td\u003e\n",
              "      \u003ctd\u003e0.796606\u003c/td\u003e\n",
              "      \u003ctd\u003e-1.343619\u003c/td\u003e\n",
              "      \u003ctd\u003e0.739703\u003c/td\u003e\n",
              "      \u003ctd\u003e0.279513\u003c/td\u003e\n",
              "      \u003ctd\u003e-0.055249\u003c/td\u003e\n",
              "      \u003ctd\u003e4.311842\u003c/td\u003e\n",
              "    \u003c/tr\u003e\n",
              "    \u003ctr\u003e\n",
              "      \u003cth\u003e99996\u003c/th\u003e\n",
              "      \u003ctd\u003e1\u003c/td\u003e\n",
              "      \u003ctd\u003e-1.702664\u003c/td\u003e\n",
              "      \u003ctd\u003e-2.250945\u003c/td\u003e\n",
              "      \u003ctd\u003e1\u003c/td\u003e\n",
              "      \u003ctd\u003e-1.702664\u003c/td\u003e\n",
              "      \u003ctd\u003e-1.807036\u003c/td\u003e\n",
              "      \u003ctd\u003e0.354001\u003c/td\u003e\n",
              "      \u003ctd\u003e-0.981352\u003c/td\u003e\n",
              "      \u003ctd\u003e-0.636095\u003c/td\u003e\n",
              "      \u003ctd\u003e-7.801048\u003c/td\u003e\n",
              "    \u003c/tr\u003e\n",
              "    \u003ctr\u003e\n",
              "      \u003cth\u003e99997\u003c/th\u003e\n",
              "      \u003ctd\u003e1\u003c/td\u003e\n",
              "      \u003ctd\u003e-0.545438\u003c/td\u003e\n",
              "      \u003ctd\u003e-0.291416\u003c/td\u003e\n",
              "      \u003ctd\u003e1\u003c/td\u003e\n",
              "      \u003ctd\u003e-0.545438\u003c/td\u003e\n",
              "      \u003ctd\u003e0.286134\u003c/td\u003e\n",
              "      \u003ctd\u003e0.122386\u003c/td\u003e\n",
              "      \u003ctd\u003e0.718529\u003c/td\u003e\n",
              "      \u003ctd\u003e-1.425460\u003c/td\u003e\n",
              "      \u003ctd\u003e-3.013221\u003c/td\u003e\n",
              "    \u003c/tr\u003e\n",
              "    \u003ctr\u003e\n",
              "      \u003cth\u003e99998\u003c/th\u003e\n",
              "      \u003ctd\u003e1\u003c/td\u003e\n",
              "      \u003ctd\u003e-0.700277\u003c/td\u003e\n",
              "      \u003ctd\u003e-1.029918\u003c/td\u003e\n",
              "      \u003ctd\u003e1\u003c/td\u003e\n",
              "      \u003ctd\u003e-0.700277\u003c/td\u003e\n",
              "      \u003ctd\u003e0.635211\u003c/td\u003e\n",
              "      \u003ctd\u003e1.069105\u003c/td\u003e\n",
              "      \u003ctd\u003e0.472206\u003c/td\u003e\n",
              "      \u003ctd\u003e0.416855\u003c/td\u003e\n",
              "      \u003ctd\u003e-3.223336\u003c/td\u003e\n",
              "    \u003c/tr\u003e\n",
              "    \u003ctr\u003e\n",
              "      \u003cth\u003e99999\u003c/th\u003e\n",
              "      \u003ctd\u003e1\u003c/td\u003e\n",
              "      \u003ctd\u003e1.680234\u003c/td\u003e\n",
              "      \u003ctd\u003e1.194916\u003c/td\u003e\n",
              "      \u003ctd\u003e0\u003c/td\u003e\n",
              "      \u003ctd\u003e1.680234\u003c/td\u003e\n",
              "      \u003ctd\u003e-0.896517\u003c/td\u003e\n",
              "      \u003ctd\u003e0.233340\u003c/td\u003e\n",
              "      \u003ctd\u003e0.376874\u003c/td\u003e\n",
              "      \u003ctd\u003e-0.611379\u003c/td\u003e\n",
              "      \u003ctd\u003e8.539949\u003c/td\u003e\n",
              "    \u003c/tr\u003e\n",
              "  \u003c/tbody\u003e\n",
              "\u003c/table\u003e\n",
              "\u003cp\u003e100000 rows × 10 columns\u003c/p\u003e\n",
              "\u003c/div\u003e"
            ],
            "text/plain": [
              "       constant  collinear_var2a  ...   random3     target\n",
              "0             1         2.190202  ...  0.623391  11.410044\n",
              "1             1         0.394249  ...  0.416443   2.129917\n",
              "2             1        -1.101671  ...  0.537239  -4.499363\n",
              "3             1        -0.290324  ... -1.022002  -1.292576\n",
              "4             1        -0.533744  ...  1.370760  -2.305813\n",
              "...         ...              ...  ...       ...        ...\n",
              "99995         1         0.796606  ... -0.055249   4.311842\n",
              "99996         1        -1.702664  ... -0.636095  -7.801048\n",
              "99997         1        -0.545438  ... -1.425460  -3.013221\n",
              "99998         1        -0.700277  ...  0.416855  -3.223336\n",
              "99999         1         1.680234  ... -0.611379   8.539949\n",
              "\n",
              "[100000 rows x 10 columns]"
            ]
          },
          "execution_count": 69,
          "metadata": {
            "tags": []
          },
          "output_type": "execute_result"
        }
      ],
      "source": [
        "inference_data = data_preparation.InferenceData(\n",
        "    initial_data=data[[\n",
        "        'constant',\n",
        "        'collinear_var2a', 'collinear_var2b',\n",
        "        'var1', 'var2', 'var3',\n",
        "        'random1', 'random2', 'random3',\n",
        "        'target'\n",
        "        ]],\n",
        "    target_column='target')\n",
        "inference_data.data"
      ]
    },
    {
      "cell_type": "markdown",
      "metadata": {
        "id": "-UDkPIBqeXC4"
      },
      "source": [
        "## Fitting a model with no data preparation.\n",
        "We can fit a model directly, setting the parameter `raise_on_data_error=False` to avoid `InferenceDataError` exception to be risen. This will skip any data check and you'll be notified with `InferenceDataWarning` warnings that some additionals step may be required before proceed with modelling."
      ]
    },
    {
      "cell_type": "markdown",
      "metadata": {
        "id": "vSKRHeEEgbI3"
      },
      "source": [
        "### Results\n",
        "These shows that the collinear variables are confounding when trying to recover the\n",
        "real effect."
      ]
    },
    {
      "cell_type": "code",
      "execution_count": 70,
      "metadata": {
        "colab": {
          "height": 481
        },
        "executionInfo": {
          "elapsed": 380,
          "status": "ok",
          "timestamp": 1611052348343,
          "user": {
            "displayName": "",
            "photoUrl": "",
            "userId": ""
          },
          "user_tz": 0
        },
        "id": "2CaTaR7ZSknO",
        "outputId": "4c525ddd-51e8-4950-9ade-bab5d0ccbae6"
      },
      "outputs": [
        {
          "name": "stderr",
          "output_type": "stream",
          "text": [
            "/google_src/head/depot/google3/third_party/gps_building_blocks/py/ml/statistical_inference/data_preparation.py:301: ControlVariableWarning: The data is not controlling for external factors. Consider using `fixed_effect` indicating the columns to use as controlfor external factors.\n",
            "  warnings.warn(ControlVariableWarning(message))\n",
            "/google_src/head/depot/google3/third_party/gps_building_blocks/py/ml/statistical_inference/data_preparation.py:397: LowVarianceWarning: The data may contain columns with low variance. Consider using `address_low_variance` identifying the columns with lowvariance and whether to drop those.\n",
            "  warnings.warn(LowVarianceWarning(message))\n",
            "/google_src/head/depot/google3/third_party/gps_building_blocks/py/ml/statistical_inference/data_preparation.py:443: CollinearityWarning: The data may contain collinearity between covariates. Consider using `address_collinearity_with_vif` to identify columns that are collinear and whether to drop them.\n",
            "  warnings.warn(CollinearityWarning(message))\n"
          ]
        },
        {
          "data": {
            "text/html": [
              "\u003cdiv\u003e\n",
              "\u003cstyle scoped\u003e\n",
              "    .dataframe tbody tr th:only-of-type {\n",
              "        vertical-align: middle;\n",
              "    }\n",
              "\n",
              "    .dataframe tbody tr th {\n",
              "        vertical-align: top;\n",
              "    }\n",
              "\n",
              "    .dataframe thead th {\n",
              "        text-align: right;\n",
              "    }\n",
              "\u003c/style\u003e\n",
              "\u003ctable border=\"1\" class=\"dataframe\"\u003e\n",
              "  \u003cthead\u003e\n",
              "    \u003ctr style=\"text-align: right;\"\u003e\n",
              "      \u003cth\u003e\u003c/th\u003e\n",
              "      \u003cth\u003eeffect\u003c/th\u003e\n",
              "      \u003cth\u003ebootstrap_std\u003c/th\u003e\n",
              "      \u003cth\u003econfidence_interval\u003c/th\u003e\n",
              "      \u003cth\u003esignificant_bootstrap\u003c/th\u003e\n",
              "      \u003cth\u003esignificant_permutation\u003c/th\u003e\n",
              "    \u003c/tr\u003e\n",
              "  \u003c/thead\u003e\n",
              "  \u003ctbody\u003e\n",
              "    \u003ctr\u003e\n",
              "      \u003cth\u003ecollinear_var2a\u003c/th\u003e\n",
              "      \u003ctd\u003e2.501989\u003c/td\u003e\n",
              "      \u003ctd\u003eNaN\u003c/td\u003e\n",
              "      \u003ctd\u003eNaN\u003c/td\u003e\n",
              "      \u003ctd\u003eNaN\u003c/td\u003e\n",
              "      \u003ctd\u003eNaN\u003c/td\u003e\n",
              "    \u003c/tr\u003e\n",
              "    \u003ctr\u003e\n",
              "      \u003cth\u003evar2\u003c/th\u003e\n",
              "      \u003ctd\u003e2.501989\u003c/td\u003e\n",
              "      \u003ctd\u003eNaN\u003c/td\u003e\n",
              "      \u003ctd\u003eNaN\u003c/td\u003e\n",
              "      \u003ctd\u003eNaN\u003c/td\u003e\n",
              "      \u003ctd\u003eNaN\u003c/td\u003e\n",
              "    \u003c/tr\u003e\n",
              "    \u003ctr\u003e\n",
              "      \u003cth\u003evar3\u003c/th\u003e\n",
              "      \u003ctd\u003e-0.500578\u003c/td\u003e\n",
              "      \u003ctd\u003eNaN\u003c/td\u003e\n",
              "      \u003ctd\u003eNaN\u003c/td\u003e\n",
              "      \u003ctd\u003eNaN\u003c/td\u003e\n",
              "      \u003ctd\u003eNaN\u003c/td\u003e\n",
              "    \u003c/tr\u003e\n",
              "    \u003ctr\u003e\n",
              "      \u003cth\u003evar1\u003c/th\u003e\n",
              "      \u003ctd\u003e0.097533\u003c/td\u003e\n",
              "      \u003ctd\u003eNaN\u003c/td\u003e\n",
              "      \u003ctd\u003eNaN\u003c/td\u003e\n",
              "      \u003ctd\u003eNaN\u003c/td\u003e\n",
              "      \u003ctd\u003eNaN\u003c/td\u003e\n",
              "    \u003c/tr\u003e\n",
              "    \u003ctr\u003e\n",
              "      \u003cth\u003ecollinear_var2b\u003c/th\u003e\n",
              "      \u003ctd\u003e-0.003499\u003c/td\u003e\n",
              "      \u003ctd\u003eNaN\u003c/td\u003e\n",
              "      \u003ctd\u003eNaN\u003c/td\u003e\n",
              "      \u003ctd\u003eNaN\u003c/td\u003e\n",
              "      \u003ctd\u003eNaN\u003c/td\u003e\n",
              "    \u003c/tr\u003e\n",
              "    \u003ctr\u003e\n",
              "      \u003cth\u003eIntercept\u003c/th\u003e\n",
              "      \u003ctd\u003e0.002552\u003c/td\u003e\n",
              "      \u003ctd\u003eNaN\u003c/td\u003e\n",
              "      \u003ctd\u003eNaN\u003c/td\u003e\n",
              "      \u003ctd\u003eNaN\u003c/td\u003e\n",
              "      \u003ctd\u003eNaN\u003c/td\u003e\n",
              "    \u003c/tr\u003e\n",
              "    \u003ctr\u003e\n",
              "      \u003cth\u003erandom3\u003c/th\u003e\n",
              "      \u003ctd\u003e0.000960\u003c/td\u003e\n",
              "      \u003ctd\u003eNaN\u003c/td\u003e\n",
              "      \u003ctd\u003eNaN\u003c/td\u003e\n",
              "      \u003ctd\u003eNaN\u003c/td\u003e\n",
              "      \u003ctd\u003eNaN\u003c/td\u003e\n",
              "    \u003c/tr\u003e\n",
              "    \u003ctr\u003e\n",
              "      \u003cth\u003erandom2\u003c/th\u003e\n",
              "      \u003ctd\u003e0.000244\u003c/td\u003e\n",
              "      \u003ctd\u003eNaN\u003c/td\u003e\n",
              "      \u003ctd\u003eNaN\u003c/td\u003e\n",
              "      \u003ctd\u003eNaN\u003c/td\u003e\n",
              "      \u003ctd\u003eNaN\u003c/td\u003e\n",
              "    \u003c/tr\u003e\n",
              "    \u003ctr\u003e\n",
              "      \u003cth\u003erandom1\u003c/th\u003e\n",
              "      \u003ctd\u003e0.000203\u003c/td\u003e\n",
              "      \u003ctd\u003eNaN\u003c/td\u003e\n",
              "      \u003ctd\u003eNaN\u003c/td\u003e\n",
              "      \u003ctd\u003eNaN\u003c/td\u003e\n",
              "      \u003ctd\u003eNaN\u003c/td\u003e\n",
              "    \u003c/tr\u003e\n",
              "    \u003ctr\u003e\n",
              "      \u003cth\u003econstant\u003c/th\u003e\n",
              "      \u003ctd\u003e0.000000\u003c/td\u003e\n",
              "      \u003ctd\u003eNaN\u003c/td\u003e\n",
              "      \u003ctd\u003eNaN\u003c/td\u003e\n",
              "      \u003ctd\u003eNaN\u003c/td\u003e\n",
              "      \u003ctd\u003eNaN\u003c/td\u003e\n",
              "    \u003c/tr\u003e\n",
              "  \u003c/tbody\u003e\n",
              "\u003c/table\u003e\n",
              "\u003c/div\u003e"
            ],
            "text/plain": [
              "                   effect  ...  significant_permutation\n",
              "collinear_var2a  2.501989  ...                      NaN\n",
              "var2             2.501989  ...                      NaN\n",
              "var3            -0.500578  ...                      NaN\n",
              "var1             0.097533  ...                      NaN\n",
              "collinear_var2b -0.003499  ...                      NaN\n",
              "Intercept        0.002552  ...                      NaN\n",
              "random3          0.000960  ...                      NaN\n",
              "random2          0.000244  ...                      NaN\n",
              "random1          0.000203  ...                      NaN\n",
              "constant         0.000000  ...                      NaN\n",
              "\n",
              "[10 rows x 5 columns]"
            ]
          },
          "execution_count": 70,
          "metadata": {
            "tags": []
          },
          "output_type": "execute_result"
        }
      ],
      "source": [
        "naive_model = models.InferenceRidge()\n",
        "naive_model.fit(inference_data, raise_on_data_error=False)\n",
        "naive_model.get_results()"
      ]
    },
    {
      "cell_type": "markdown",
      "metadata": {
        "id": "AoGysRuQfk-B"
      },
      "source": [
        "## Preparing the data correctly before fitting a model.\n",
        "Before modelling, we want to:\n",
        "\n",
        "* Remove low-variance variables, in our case the `constant` variable.\n",
        "* Remove collinear variables, in our case removing two the `var2`.\n",
        "\n",
        "Note that we should also control for external factors, which are not present in this example."
      ]
    },
    {
      "cell_type": "markdown",
      "metadata": {
        "id": "gyH_tWuV5Ugw"
      },
      "source": [
        "### Addressing low variance variables\n",
        "The method `address_low_variance(threshold=0, drop=True)` in `InferenceData` identifies low variances variables and have an option to drop them. When variance threshold is zero, means the variable has no variation and is a constant value for all the observations.\n",
        "\n",
        "After running the method, the `constant` column in the `InferenceData` has been remove from the dataframe.\n"
      ]
    },
    {
      "cell_type": "code",
      "execution_count": 71,
      "metadata": {
        "colab": {
          "height": 419
        },
        "executionInfo": {
          "elapsed": 420,
          "status": "ok",
          "timestamp": 1611052348776,
          "user": {
            "displayName": "",
            "photoUrl": "",
            "userId": ""
          },
          "user_tz": 0
        },
        "id": "wK1LQe7jSkqB",
        "outputId": "ed764df3-23e9-4249-f50c-1c0e59442d88"
      },
      "outputs": [
        {
          "data": {
            "text/html": [
              "\u003cdiv\u003e\n",
              "\u003cstyle scoped\u003e\n",
              "    .dataframe tbody tr th:only-of-type {\n",
              "        vertical-align: middle;\n",
              "    }\n",
              "\n",
              "    .dataframe tbody tr th {\n",
              "        vertical-align: top;\n",
              "    }\n",
              "\n",
              "    .dataframe thead th {\n",
              "        text-align: right;\n",
              "    }\n",
              "\u003c/style\u003e\n",
              "\u003ctable border=\"1\" class=\"dataframe\"\u003e\n",
              "  \u003cthead\u003e\n",
              "    \u003ctr style=\"text-align: right;\"\u003e\n",
              "      \u003cth\u003e\u003c/th\u003e\n",
              "      \u003cth\u003ecollinear_var2a\u003c/th\u003e\n",
              "      \u003cth\u003ecollinear_var2b\u003c/th\u003e\n",
              "      \u003cth\u003evar1\u003c/th\u003e\n",
              "      \u003cth\u003evar2\u003c/th\u003e\n",
              "      \u003cth\u003evar3\u003c/th\u003e\n",
              "      \u003cth\u003erandom1\u003c/th\u003e\n",
              "      \u003cth\u003erandom2\u003c/th\u003e\n",
              "      \u003cth\u003erandom3\u003c/th\u003e\n",
              "      \u003cth\u003etarget\u003c/th\u003e\n",
              "    \u003c/tr\u003e\n",
              "  \u003c/thead\u003e\n",
              "  \u003ctbody\u003e\n",
              "    \u003ctr\u003e\n",
              "      \u003cth\u003e0\u003c/th\u003e\n",
              "      \u003ctd\u003e2.190202\u003c/td\u003e\n",
              "      \u003ctd\u003e2.631517\u003c/td\u003e\n",
              "      \u003ctd\u003e1\u003c/td\u003e\n",
              "      \u003ctd\u003e2.190202\u003c/td\u003e\n",
              "      \u003ctd\u003e-0.134892\u003c/td\u003e\n",
              "      \u003ctd\u003e0.160518\u003c/td\u003e\n",
              "      \u003ctd\u003e0.442698\u003c/td\u003e\n",
              "      \u003ctd\u003e0.623391\u003c/td\u003e\n",
              "      \u003ctd\u003e11.410044\u003c/td\u003e\n",
              "    \u003c/tr\u003e\n",
              "    \u003ctr\u003e\n",
              "      \u003cth\u003e1\u003c/th\u003e\n",
              "      \u003ctd\u003e0.394249\u003c/td\u003e\n",
              "      \u003ctd\u003e0.499485\u003c/td\u003e\n",
              "      \u003ctd\u003e1\u003c/td\u003e\n",
              "      \u003ctd\u003e0.394249\u003c/td\u003e\n",
              "      \u003ctd\u003e-0.336387\u003c/td\u003e\n",
              "      \u003ctd\u003e-0.645906\u003c/td\u003e\n",
              "      \u003ctd\u003e0.805458\u003c/td\u003e\n",
              "      \u003ctd\u003e0.416443\u003c/td\u003e\n",
              "      \u003ctd\u003e2.129917\u003c/td\u003e\n",
              "    \u003c/tr\u003e\n",
              "    \u003ctr\u003e\n",
              "      \u003cth\u003e2\u003c/th\u003e\n",
              "      \u003ctd\u003e-1.101671\u003c/td\u003e\n",
              "      \u003ctd\u003e-0.740977\u003c/td\u003e\n",
              "      \u003ctd\u003e1\u003c/td\u003e\n",
              "      \u003ctd\u003e-1.101671\u003c/td\u003e\n",
              "      \u003ctd\u003e-0.994757\u003c/td\u003e\n",
              "      \u003ctd\u003e1.345519\u003c/td\u003e\n",
              "      \u003ctd\u003e0.581868\u003c/td\u003e\n",
              "      \u003ctd\u003e0.537239\u003c/td\u003e\n",
              "      \u003ctd\u003e-4.499363\u003c/td\u003e\n",
              "    \u003c/tr\u003e\n",
              "    \u003ctr\u003e\n",
              "      \u003cth\u003e3\u003c/th\u003e\n",
              "      \u003ctd\u003e-0.290324\u003c/td\u003e\n",
              "      \u003ctd\u003e0.423911\u003c/td\u003e\n",
              "      \u003ctd\u003e1\u003c/td\u003e\n",
              "      \u003ctd\u003e-0.290324\u003c/td\u003e\n",
              "      \u003ctd\u003e0.601365\u003c/td\u003e\n",
              "      \u003ctd\u003e-0.564527\u003c/td\u003e\n",
              "      \u003ctd\u003e-1.167952\u003c/td\u003e\n",
              "      \u003ctd\u003e-1.022002\u003c/td\u003e\n",
              "      \u003ctd\u003e-1.292576\u003c/td\u003e\n",
              "    \u003c/tr\u003e\n",
              "    \u003ctr\u003e\n",
              "      \u003cth\u003e4\u003c/th\u003e\n",
              "      \u003ctd\u003e-0.533744\u003c/td\u003e\n",
              "      \u003ctd\u003e0.076088\u003c/td\u003e\n",
              "      \u003ctd\u003e1\u003c/td\u003e\n",
              "      \u003ctd\u003e-0.533744\u003c/td\u003e\n",
              "      \u003ctd\u003e-1.350432\u003c/td\u003e\n",
              "      \u003ctd\u003e0.230094\u003c/td\u003e\n",
              "      \u003ctd\u003e0.894855\u003c/td\u003e\n",
              "      \u003ctd\u003e1.370760\u003c/td\u003e\n",
              "      \u003ctd\u003e-2.305813\u003c/td\u003e\n",
              "    \u003c/tr\u003e\n",
              "    \u003ctr\u003e\n",
              "      \u003cth\u003e...\u003c/th\u003e\n",
              "      \u003ctd\u003e...\u003c/td\u003e\n",
              "      \u003ctd\u003e...\u003c/td\u003e\n",
              "      \u003ctd\u003e...\u003c/td\u003e\n",
              "      \u003ctd\u003e...\u003c/td\u003e\n",
              "      \u003ctd\u003e...\u003c/td\u003e\n",
              "      \u003ctd\u003e...\u003c/td\u003e\n",
              "      \u003ctd\u003e...\u003c/td\u003e\n",
              "      \u003ctd\u003e...\u003c/td\u003e\n",
              "      \u003ctd\u003e...\u003c/td\u003e\n",
              "    \u003c/tr\u003e\n",
              "    \u003ctr\u003e\n",
              "      \u003cth\u003e99995\u003c/th\u003e\n",
              "      \u003ctd\u003e0.796606\u003c/td\u003e\n",
              "      \u003ctd\u003e0.651324\u003c/td\u003e\n",
              "      \u003ctd\u003e1\u003c/td\u003e\n",
              "      \u003ctd\u003e0.796606\u003c/td\u003e\n",
              "      \u003ctd\u003e-1.343619\u003c/td\u003e\n",
              "      \u003ctd\u003e0.739703\u003c/td\u003e\n",
              "      \u003ctd\u003e0.279513\u003c/td\u003e\n",
              "      \u003ctd\u003e-0.055249\u003c/td\u003e\n",
              "      \u003ctd\u003e4.311842\u003c/td\u003e\n",
              "    \u003c/tr\u003e\n",
              "    \u003ctr\u003e\n",
              "      \u003cth\u003e99996\u003c/th\u003e\n",
              "      \u003ctd\u003e-1.702664\u003c/td\u003e\n",
              "      \u003ctd\u003e-2.250945\u003c/td\u003e\n",
              "      \u003ctd\u003e1\u003c/td\u003e\n",
              "      \u003ctd\u003e-1.702664\u003c/td\u003e\n",
              "      \u003ctd\u003e-1.807036\u003c/td\u003e\n",
              "      \u003ctd\u003e0.354001\u003c/td\u003e\n",
              "      \u003ctd\u003e-0.981352\u003c/td\u003e\n",
              "      \u003ctd\u003e-0.636095\u003c/td\u003e\n",
              "      \u003ctd\u003e-7.801048\u003c/td\u003e\n",
              "    \u003c/tr\u003e\n",
              "    \u003ctr\u003e\n",
              "      \u003cth\u003e99997\u003c/th\u003e\n",
              "      \u003ctd\u003e-0.545438\u003c/td\u003e\n",
              "      \u003ctd\u003e-0.291416\u003c/td\u003e\n",
              "      \u003ctd\u003e1\u003c/td\u003e\n",
              "      \u003ctd\u003e-0.545438\u003c/td\u003e\n",
              "      \u003ctd\u003e0.286134\u003c/td\u003e\n",
              "      \u003ctd\u003e0.122386\u003c/td\u003e\n",
              "      \u003ctd\u003e0.718529\u003c/td\u003e\n",
              "      \u003ctd\u003e-1.425460\u003c/td\u003e\n",
              "      \u003ctd\u003e-3.013221\u003c/td\u003e\n",
              "    \u003c/tr\u003e\n",
              "    \u003ctr\u003e\n",
              "      \u003cth\u003e99998\u003c/th\u003e\n",
              "      \u003ctd\u003e-0.700277\u003c/td\u003e\n",
              "      \u003ctd\u003e-1.029918\u003c/td\u003e\n",
              "      \u003ctd\u003e1\u003c/td\u003e\n",
              "      \u003ctd\u003e-0.700277\u003c/td\u003e\n",
              "      \u003ctd\u003e0.635211\u003c/td\u003e\n",
              "      \u003ctd\u003e1.069105\u003c/td\u003e\n",
              "      \u003ctd\u003e0.472206\u003c/td\u003e\n",
              "      \u003ctd\u003e0.416855\u003c/td\u003e\n",
              "      \u003ctd\u003e-3.223336\u003c/td\u003e\n",
              "    \u003c/tr\u003e\n",
              "    \u003ctr\u003e\n",
              "      \u003cth\u003e99999\u003c/th\u003e\n",
              "      \u003ctd\u003e1.680234\u003c/td\u003e\n",
              "      \u003ctd\u003e1.194916\u003c/td\u003e\n",
              "      \u003ctd\u003e0\u003c/td\u003e\n",
              "      \u003ctd\u003e1.680234\u003c/td\u003e\n",
              "      \u003ctd\u003e-0.896517\u003c/td\u003e\n",
              "      \u003ctd\u003e0.233340\u003c/td\u003e\n",
              "      \u003ctd\u003e0.376874\u003c/td\u003e\n",
              "      \u003ctd\u003e-0.611379\u003c/td\u003e\n",
              "      \u003ctd\u003e8.539949\u003c/td\u003e\n",
              "    \u003c/tr\u003e\n",
              "  \u003c/tbody\u003e\n",
              "\u003c/table\u003e\n",
              "\u003cp\u003e100000 rows × 9 columns\u003c/p\u003e\n",
              "\u003c/div\u003e"
            ],
            "text/plain": [
              "       collinear_var2a  collinear_var2b  var1  ...   random2   random3     target\n",
              "0             2.190202         2.631517     1  ...  0.442698  0.623391  11.410044\n",
              "1             0.394249         0.499485     1  ...  0.805458  0.416443   2.129917\n",
              "2            -1.101671        -0.740977     1  ...  0.581868  0.537239  -4.499363\n",
              "3            -0.290324         0.423911     1  ... -1.167952 -1.022002  -1.292576\n",
              "4            -0.533744         0.076088     1  ...  0.894855  1.370760  -2.305813\n",
              "...                ...              ...   ...  ...       ...       ...        ...\n",
              "99995         0.796606         0.651324     1  ...  0.279513 -0.055249   4.311842\n",
              "99996        -1.702664        -2.250945     1  ... -0.981352 -0.636095  -7.801048\n",
              "99997        -0.545438        -0.291416     1  ...  0.718529 -1.425460  -3.013221\n",
              "99998        -0.700277        -1.029918     1  ...  0.472206  0.416855  -3.223336\n",
              "99999         1.680234         1.194916     0  ...  0.376874 -0.611379   8.539949\n",
              "\n",
              "[100000 rows x 9 columns]"
            ]
          },
          "execution_count": 71,
          "metadata": {
            "tags": []
          },
          "output_type": "execute_result"
        }
      ],
      "source": [
        "inference_data.address_low_variance(threshold=0, drop=True)"
      ]
    },
    {
      "cell_type": "markdown",
      "metadata": {
        "id": "2Xovnp1u6gUS"
      },
      "source": [
        "### Addressing Collinearity with Variance Inflation Factor (VIF)\n",
        "In the example above, collinear columns are interfering with recovering the real effect. The method `address_collinearity_with_vif(vif_threshold=10, drop=True)` uses [VIF](https://en.wikipedia.org/wiki/Variance_inflation_factor). to identify columns that are collinear and option to drop them and retain only one."
      ]
    },
    {
      "cell_type": "code",
      "execution_count": 72,
      "metadata": {
        "colab": {
          "height": 456
        },
        "executionInfo": {
          "elapsed": 1356,
          "status": "ok",
          "timestamp": 1611052350146,
          "user": {
            "displayName": "",
            "photoUrl": "",
            "userId": ""
          },
          "user_tz": 0
        },
        "id": "7a_z7L2iUXNp",
        "outputId": "2d48be7a-cb45-444d-e779-8d847fbdd97a"
      },
      "outputs": [
        {
          "name": "stderr",
          "output_type": "stream",
          "text": [
            "/export/hda3/borglet/remote_hdd_fs_dirs/0.gps-ds-colab-amariani.kernel.amariani.497415516601.14b334fb3717c109/mount/server/ds_colab.par/google3/third_party/py/statsmodels/stats/outliers_influence.py:193: RuntimeWarning: divide by zero encountered in double_scalars\n"
          ]
        },
        {
          "data": {
            "text/html": [
              "\u003cdiv\u003e\n",
              "\u003cstyle scoped\u003e\n",
              "    .dataframe tbody tr th:only-of-type {\n",
              "        vertical-align: middle;\n",
              "    }\n",
              "\n",
              "    .dataframe tbody tr th {\n",
              "        vertical-align: top;\n",
              "    }\n",
              "\n",
              "    .dataframe thead th {\n",
              "        text-align: right;\n",
              "    }\n",
              "\u003c/style\u003e\n",
              "\u003ctable border=\"1\" class=\"dataframe\"\u003e\n",
              "  \u003cthead\u003e\n",
              "    \u003ctr style=\"text-align: right;\"\u003e\n",
              "      \u003cth\u003e\u003c/th\u003e\n",
              "      \u003cth\u003ecollinear_var2b\u003c/th\u003e\n",
              "      \u003cth\u003evar1\u003c/th\u003e\n",
              "      \u003cth\u003evar3\u003c/th\u003e\n",
              "      \u003cth\u003erandom1\u003c/th\u003e\n",
              "      \u003cth\u003erandom2\u003c/th\u003e\n",
              "      \u003cth\u003erandom3\u003c/th\u003e\n",
              "      \u003cth\u003etarget\u003c/th\u003e\n",
              "    \u003c/tr\u003e\n",
              "  \u003c/thead\u003e\n",
              "  \u003ctbody\u003e\n",
              "    \u003ctr\u003e\n",
              "      \u003cth\u003e0\u003c/th\u003e\n",
              "      \u003ctd\u003e2.631517\u003c/td\u003e\n",
              "      \u003ctd\u003e1\u003c/td\u003e\n",
              "      \u003ctd\u003e-0.134892\u003c/td\u003e\n",
              "      \u003ctd\u003e0.160518\u003c/td\u003e\n",
              "      \u003ctd\u003e0.442698\u003c/td\u003e\n",
              "      \u003ctd\u003e0.623391\u003c/td\u003e\n",
              "      \u003ctd\u003e11.410044\u003c/td\u003e\n",
              "    \u003c/tr\u003e\n",
              "    \u003ctr\u003e\n",
              "      \u003cth\u003e1\u003c/th\u003e\n",
              "      \u003ctd\u003e0.499485\u003c/td\u003e\n",
              "      \u003ctd\u003e1\u003c/td\u003e\n",
              "      \u003ctd\u003e-0.336387\u003c/td\u003e\n",
              "      \u003ctd\u003e-0.645906\u003c/td\u003e\n",
              "      \u003ctd\u003e0.805458\u003c/td\u003e\n",
              "      \u003ctd\u003e0.416443\u003c/td\u003e\n",
              "      \u003ctd\u003e2.129917\u003c/td\u003e\n",
              "    \u003c/tr\u003e\n",
              "    \u003ctr\u003e\n",
              "      \u003cth\u003e2\u003c/th\u003e\n",
              "      \u003ctd\u003e-0.740977\u003c/td\u003e\n",
              "      \u003ctd\u003e1\u003c/td\u003e\n",
              "      \u003ctd\u003e-0.994757\u003c/td\u003e\n",
              "      \u003ctd\u003e1.345519\u003c/td\u003e\n",
              "      \u003ctd\u003e0.581868\u003c/td\u003e\n",
              "      \u003ctd\u003e0.537239\u003c/td\u003e\n",
              "      \u003ctd\u003e-4.499363\u003c/td\u003e\n",
              "    \u003c/tr\u003e\n",
              "    \u003ctr\u003e\n",
              "      \u003cth\u003e3\u003c/th\u003e\n",
              "      \u003ctd\u003e0.423911\u003c/td\u003e\n",
              "      \u003ctd\u003e1\u003c/td\u003e\n",
              "      \u003ctd\u003e0.601365\u003c/td\u003e\n",
              "      \u003ctd\u003e-0.564527\u003c/td\u003e\n",
              "      \u003ctd\u003e-1.167952\u003c/td\u003e\n",
              "      \u003ctd\u003e-1.022002\u003c/td\u003e\n",
              "      \u003ctd\u003e-1.292576\u003c/td\u003e\n",
              "    \u003c/tr\u003e\n",
              "    \u003ctr\u003e\n",
              "      \u003cth\u003e4\u003c/th\u003e\n",
              "      \u003ctd\u003e0.076088\u003c/td\u003e\n",
              "      \u003ctd\u003e1\u003c/td\u003e\n",
              "      \u003ctd\u003e-1.350432\u003c/td\u003e\n",
              "      \u003ctd\u003e0.230094\u003c/td\u003e\n",
              "      \u003ctd\u003e0.894855\u003c/td\u003e\n",
              "      \u003ctd\u003e1.370760\u003c/td\u003e\n",
              "      \u003ctd\u003e-2.305813\u003c/td\u003e\n",
              "    \u003c/tr\u003e\n",
              "    \u003ctr\u003e\n",
              "      \u003cth\u003e...\u003c/th\u003e\n",
              "      \u003ctd\u003e...\u003c/td\u003e\n",
              "      \u003ctd\u003e...\u003c/td\u003e\n",
              "      \u003ctd\u003e...\u003c/td\u003e\n",
              "      \u003ctd\u003e...\u003c/td\u003e\n",
              "      \u003ctd\u003e...\u003c/td\u003e\n",
              "      \u003ctd\u003e...\u003c/td\u003e\n",
              "      \u003ctd\u003e...\u003c/td\u003e\n",
              "    \u003c/tr\u003e\n",
              "    \u003ctr\u003e\n",
              "      \u003cth\u003e99995\u003c/th\u003e\n",
              "      \u003ctd\u003e0.651324\u003c/td\u003e\n",
              "      \u003ctd\u003e1\u003c/td\u003e\n",
              "      \u003ctd\u003e-1.343619\u003c/td\u003e\n",
              "      \u003ctd\u003e0.739703\u003c/td\u003e\n",
              "      \u003ctd\u003e0.279513\u003c/td\u003e\n",
              "      \u003ctd\u003e-0.055249\u003c/td\u003e\n",
              "      \u003ctd\u003e4.311842\u003c/td\u003e\n",
              "    \u003c/tr\u003e\n",
              "    \u003ctr\u003e\n",
              "      \u003cth\u003e99996\u003c/th\u003e\n",
              "      \u003ctd\u003e-2.250945\u003c/td\u003e\n",
              "      \u003ctd\u003e1\u003c/td\u003e\n",
              "      \u003ctd\u003e-1.807036\u003c/td\u003e\n",
              "      \u003ctd\u003e0.354001\u003c/td\u003e\n",
              "      \u003ctd\u003e-0.981352\u003c/td\u003e\n",
              "      \u003ctd\u003e-0.636095\u003c/td\u003e\n",
              "      \u003ctd\u003e-7.801048\u003c/td\u003e\n",
              "    \u003c/tr\u003e\n",
              "    \u003ctr\u003e\n",
              "      \u003cth\u003e99997\u003c/th\u003e\n",
              "      \u003ctd\u003e-0.291416\u003c/td\u003e\n",
              "      \u003ctd\u003e1\u003c/td\u003e\n",
              "      \u003ctd\u003e0.286134\u003c/td\u003e\n",
              "      \u003ctd\u003e0.122386\u003c/td\u003e\n",
              "      \u003ctd\u003e0.718529\u003c/td\u003e\n",
              "      \u003ctd\u003e-1.425460\u003c/td\u003e\n",
              "      \u003ctd\u003e-3.013221\u003c/td\u003e\n",
              "    \u003c/tr\u003e\n",
              "    \u003ctr\u003e\n",
              "      \u003cth\u003e99998\u003c/th\u003e\n",
              "      \u003ctd\u003e-1.029918\u003c/td\u003e\n",
              "      \u003ctd\u003e1\u003c/td\u003e\n",
              "      \u003ctd\u003e0.635211\u003c/td\u003e\n",
              "      \u003ctd\u003e1.069105\u003c/td\u003e\n",
              "      \u003ctd\u003e0.472206\u003c/td\u003e\n",
              "      \u003ctd\u003e0.416855\u003c/td\u003e\n",
              "      \u003ctd\u003e-3.223336\u003c/td\u003e\n",
              "    \u003c/tr\u003e\n",
              "    \u003ctr\u003e\n",
              "      \u003cth\u003e99999\u003c/th\u003e\n",
              "      \u003ctd\u003e1.194916\u003c/td\u003e\n",
              "      \u003ctd\u003e0\u003c/td\u003e\n",
              "      \u003ctd\u003e-0.896517\u003c/td\u003e\n",
              "      \u003ctd\u003e0.233340\u003c/td\u003e\n",
              "      \u003ctd\u003e0.376874\u003c/td\u003e\n",
              "      \u003ctd\u003e-0.611379\u003c/td\u003e\n",
              "      \u003ctd\u003e8.539949\u003c/td\u003e\n",
              "    \u003c/tr\u003e\n",
              "  \u003c/tbody\u003e\n",
              "\u003c/table\u003e\n",
              "\u003cp\u003e100000 rows × 7 columns\u003c/p\u003e\n",
              "\u003c/div\u003e"
            ],
            "text/plain": [
              "       collinear_var2b  var1      var3   random1   random2   random3     target\n",
              "0             2.631517     1 -0.134892  0.160518  0.442698  0.623391  11.410044\n",
              "1             0.499485     1 -0.336387 -0.645906  0.805458  0.416443   2.129917\n",
              "2            -0.740977     1 -0.994757  1.345519  0.581868  0.537239  -4.499363\n",
              "3             0.423911     1  0.601365 -0.564527 -1.167952 -1.022002  -1.292576\n",
              "4             0.076088     1 -1.350432  0.230094  0.894855  1.370760  -2.305813\n",
              "...                ...   ...       ...       ...       ...       ...        ...\n",
              "99995         0.651324     1 -1.343619  0.739703  0.279513 -0.055249   4.311842\n",
              "99996        -2.250945     1 -1.807036  0.354001 -0.981352 -0.636095  -7.801048\n",
              "99997        -0.291416     1  0.286134  0.122386  0.718529 -1.425460  -3.013221\n",
              "99998        -1.029918     1  0.635211  1.069105  0.472206  0.416855  -3.223336\n",
              "99999         1.194916     0 -0.896517  0.233340  0.376874 -0.611379   8.539949\n",
              "\n",
              "[100000 rows x 7 columns]"
            ]
          },
          "execution_count": 72,
          "metadata": {
            "tags": []
          },
          "output_type": "execute_result"
        }
      ],
      "source": [
        "inference_data.address_collinearity_with_vif(vif_threshold=10, drop=True)"
      ]
    },
    {
      "cell_type": "markdown",
      "metadata": {
        "id": "1QdO2qHx8bON"
      },
      "source": [
        "Collinearity is always tricky to address, the options usually are:\n",
        "* Iteratively eliminate collinear variables one at time until collinearity is removed\n",
        "* Create casual graphs to map dependencies between variables and include one per collinear group\n",
        "* Remove all collinear variables\n",
        "\n",
        "In our example `var2`, `collinear_var2a` and `collinear_var2b` are all collinear with each others. We've decided to went for option one and because the elimination process in VIF is random, `collinear_var2b` was selected. Unfortunately, there is no way know that `var2` should be retain instead of `collinear_var2b` with this approach."
      ]
    },
    {
      "cell_type": "markdown",
      "metadata": {
        "id": "4x1tmVKigWo6"
      },
      "source": [
        "### Results\n",
        "\n",
        "With data better suited for recovering the real effects, these are more much closer to the real one. Fitting bootstrap and permutation test will also give you tools to reject or accept theses."
      ]
    },
    {
      "cell_type": "code",
      "execution_count": 73,
      "metadata": {
        "colab": {
          "height": 320
        },
        "executionInfo": {
          "elapsed": 383,
          "status": "ok",
          "timestamp": 1611052350546,
          "user": {
            "displayName": "",
            "photoUrl": "",
            "userId": ""
          },
          "user_tz": 0
        },
        "id": "1XAq_lbzSksI",
        "outputId": "0ccfd9d5-5d4c-4670-93fa-39bb2707a897"
      },
      "outputs": [
        {
          "name": "stderr",
          "output_type": "stream",
          "text": [
            "/google_src/head/depot/google3/third_party/gps_building_blocks/py/ml/statistical_inference/data_preparation.py:301: ControlVariableWarning: The data is not controlling for external factors. Consider using `fixed_effect` indicating the columns to use as controlfor external factors.\n",
            "  warnings.warn(ControlVariableWarning(message))\n"
          ]
        },
        {
          "data": {
            "text/html": [
              "\u003cdiv\u003e\n",
              "\u003cstyle scoped\u003e\n",
              "    .dataframe tbody tr th:only-of-type {\n",
              "        vertical-align: middle;\n",
              "    }\n",
              "\n",
              "    .dataframe tbody tr th {\n",
              "        vertical-align: top;\n",
              "    }\n",
              "\n",
              "    .dataframe thead th {\n",
              "        text-align: right;\n",
              "    }\n",
              "\u003c/style\u003e\n",
              "\u003ctable border=\"1\" class=\"dataframe\"\u003e\n",
              "  \u003cthead\u003e\n",
              "    \u003ctr style=\"text-align: right;\"\u003e\n",
              "      \u003cth\u003e\u003c/th\u003e\n",
              "      \u003cth\u003eeffect\u003c/th\u003e\n",
              "      \u003cth\u003ebootstrap_std\u003c/th\u003e\n",
              "      \u003cth\u003econfidence_interval\u003c/th\u003e\n",
              "      \u003cth\u003esignificant_bootstrap\u003c/th\u003e\n",
              "      \u003cth\u003esignificant_permutation\u003c/th\u003e\n",
              "    \u003c/tr\u003e\n",
              "  \u003c/thead\u003e\n",
              "  \u003ctbody\u003e\n",
              "    \u003ctr\u003e\n",
              "      \u003cth\u003ecollinear_var2b\u003c/th\u003e\n",
              "      \u003ctd\u003e4.763578\u003c/td\u003e\n",
              "      \u003ctd\u003eNaN\u003c/td\u003e\n",
              "      \u003ctd\u003eNaN\u003c/td\u003e\n",
              "      \u003ctd\u003eNaN\u003c/td\u003e\n",
              "      \u003ctd\u003eNaN\u003c/td\u003e\n",
              "    \u003c/tr\u003e\n",
              "    \u003ctr\u003e\n",
              "      \u003cth\u003evar3\u003c/th\u003e\n",
              "      \u003ctd\u003e-0.494853\u003c/td\u003e\n",
              "      \u003ctd\u003eNaN\u003c/td\u003e\n",
              "      \u003ctd\u003eNaN\u003c/td\u003e\n",
              "      \u003ctd\u003eNaN\u003c/td\u003e\n",
              "      \u003ctd\u003eNaN\u003c/td\u003e\n",
              "    \u003c/tr\u003e\n",
              "    \u003ctr\u003e\n",
              "      \u003cth\u003evar1\u003c/th\u003e\n",
              "      \u003ctd\u003e0.101128\u003c/td\u003e\n",
              "      \u003ctd\u003eNaN\u003c/td\u003e\n",
              "      \u003ctd\u003eNaN\u003c/td\u003e\n",
              "      \u003ctd\u003eNaN\u003c/td\u003e\n",
              "      \u003ctd\u003eNaN\u003c/td\u003e\n",
              "    \u003c/tr\u003e\n",
              "    \u003ctr\u003e\n",
              "      \u003cth\u003erandom3\u003c/th\u003e\n",
              "      \u003ctd\u003e-0.007278\u003c/td\u003e\n",
              "      \u003ctd\u003eNaN\u003c/td\u003e\n",
              "      \u003ctd\u003eNaN\u003c/td\u003e\n",
              "      \u003ctd\u003eNaN\u003c/td\u003e\n",
              "      \u003ctd\u003eNaN\u003c/td\u003e\n",
              "    \u003c/tr\u003e\n",
              "    \u003ctr\u003e\n",
              "      \u003cth\u003eIntercept\u003c/th\u003e\n",
              "      \u003ctd\u003e-0.002956\u003c/td\u003e\n",
              "      \u003ctd\u003eNaN\u003c/td\u003e\n",
              "      \u003ctd\u003eNaN\u003c/td\u003e\n",
              "      \u003ctd\u003eNaN\u003c/td\u003e\n",
              "      \u003ctd\u003eNaN\u003c/td\u003e\n",
              "    \u003c/tr\u003e\n",
              "    \u003ctr\u003e\n",
              "      \u003cth\u003erandom2\u003c/th\u003e\n",
              "      \u003ctd\u003e-0.001760\u003c/td\u003e\n",
              "      \u003ctd\u003eNaN\u003c/td\u003e\n",
              "      \u003ctd\u003eNaN\u003c/td\u003e\n",
              "      \u003ctd\u003eNaN\u003c/td\u003e\n",
              "      \u003ctd\u003eNaN\u003c/td\u003e\n",
              "    \u003c/tr\u003e\n",
              "    \u003ctr\u003e\n",
              "      \u003cth\u003erandom1\u003c/th\u003e\n",
              "      \u003ctd\u003e-0.000075\u003c/td\u003e\n",
              "      \u003ctd\u003eNaN\u003c/td\u003e\n",
              "      \u003ctd\u003eNaN\u003c/td\u003e\n",
              "      \u003ctd\u003eNaN\u003c/td\u003e\n",
              "      \u003ctd\u003eNaN\u003c/td\u003e\n",
              "    \u003c/tr\u003e\n",
              "  \u003c/tbody\u003e\n",
              "\u003c/table\u003e\n",
              "\u003c/div\u003e"
            ],
            "text/plain": [
              "                   effect  ...  significant_permutation\n",
              "collinear_var2b  4.763578  ...                      NaN\n",
              "var3            -0.494853  ...                      NaN\n",
              "var1             0.101128  ...                      NaN\n",
              "random3         -0.007278  ...                      NaN\n",
              "Intercept       -0.002956  ...                      NaN\n",
              "random2         -0.001760  ...                      NaN\n",
              "random1         -0.000075  ...                      NaN\n",
              "\n",
              "[7 rows x 5 columns]"
            ]
          },
          "execution_count": 73,
          "metadata": {
            "tags": []
          },
          "output_type": "execute_result"
        }
      ],
      "source": [
        "less_naive_model = models.InferenceRidge()\n",
        "less_naive_model.fit(inference_data, raise_on_data_error=False)\n",
        "less_naive_model.get_results()"
      ]
    },
    {
      "cell_type": "code",
      "execution_count": 74,
      "metadata": {
        "colab": {
          "height": 266
        },
        "executionInfo": {
          "elapsed": 1531,
          "status": "ok",
          "timestamp": 1611052352086,
          "user": {
            "displayName": "",
            "photoUrl": "",
            "userId": ""
          },
          "user_tz": 0
        },
        "id": "7oviwr8KDSrQ",
        "outputId": "66a4be8e-1a93-4dfa-d81d-56400afb8cc6"
      },
      "outputs": [
        {
          "data": {
            "text/html": [
              "\u003cdiv\u003e\n",
              "\u003cstyle scoped\u003e\n",
              "    .dataframe tbody tr th:only-of-type {\n",
              "        vertical-align: middle;\n",
              "    }\n",
              "\n",
              "    .dataframe tbody tr th {\n",
              "        vertical-align: top;\n",
              "    }\n",
              "\n",
              "    .dataframe thead th {\n",
              "        text-align: right;\n",
              "    }\n",
              "\u003c/style\u003e\n",
              "\u003ctable border=\"1\" class=\"dataframe\"\u003e\n",
              "  \u003cthead\u003e\n",
              "    \u003ctr style=\"text-align: right;\"\u003e\n",
              "      \u003cth\u003e\u003c/th\u003e\n",
              "      \u003cth\u003eeffect\u003c/th\u003e\n",
              "      \u003cth\u003ebootstrap_std\u003c/th\u003e\n",
              "      \u003cth\u003econfidence_interval\u003c/th\u003e\n",
              "      \u003cth\u003esignificant_bootstrap\u003c/th\u003e\n",
              "      \u003cth\u003esignificant_permutation\u003c/th\u003e\n",
              "    \u003c/tr\u003e\n",
              "  \u003c/thead\u003e\n",
              "  \u003ctbody\u003e\n",
              "    \u003ctr\u003e\n",
              "      \u003cth\u003ecollinear_var2b\u003c/th\u003e\n",
              "      \u003ctd\u003e4.763053\u003c/td\u003e\n",
              "      \u003ctd\u003e0.004885\u003c/td\u003e\n",
              "      \u003ctd\u003e0.008035\u003c/td\u003e\n",
              "      \u003ctd\u003eTrue\u003c/td\u003e\n",
              "      \u003ctd\u003eNaN\u003c/td\u003e\n",
              "    \u003c/tr\u003e\n",
              "    \u003ctr\u003e\n",
              "      \u003cth\u003evar3\u003c/th\u003e\n",
              "      \u003ctd\u003e-0.495648\u003c/td\u003e\n",
              "      \u003ctd\u003e0.004756\u003c/td\u003e\n",
              "      \u003ctd\u003e0.007824\u003c/td\u003e\n",
              "      \u003ctd\u003eTrue\u003c/td\u003e\n",
              "      \u003ctd\u003eNaN\u003c/td\u003e\n",
              "    \u003c/tr\u003e\n",
              "    \u003ctr\u003e\n",
              "      \u003cth\u003evar1\u003c/th\u003e\n",
              "      \u003ctd\u003e0.100915\u003c/td\u003e\n",
              "      \u003ctd\u003e0.010338\u003c/td\u003e\n",
              "      \u003ctd\u003e0.017004\u003c/td\u003e\n",
              "      \u003ctd\u003eTrue\u003c/td\u003e\n",
              "      \u003ctd\u003eNaN\u003c/td\u003e\n",
              "    \u003c/tr\u003e\n",
              "    \u003ctr\u003e\n",
              "      \u003cth\u003erandom3\u003c/th\u003e\n",
              "      \u003ctd\u003e-0.006032\u003c/td\u003e\n",
              "      \u003ctd\u003e0.005466\u003c/td\u003e\n",
              "      \u003ctd\u003e0.008990\u003c/td\u003e\n",
              "      \u003ctd\u003eFalse\u003c/td\u003e\n",
              "      \u003ctd\u003eNaN\u003c/td\u003e\n",
              "    \u003c/tr\u003e\n",
              "    \u003ctr\u003e\n",
              "      \u003cth\u003eIntercept\u003c/th\u003e\n",
              "      \u003ctd\u003e-0.002970\u003c/td\u003e\n",
              "      \u003ctd\u003e0.007288\u003c/td\u003e\n",
              "      \u003ctd\u003e0.011987\u003c/td\u003e\n",
              "      \u003ctd\u003eFalse\u003c/td\u003e\n",
              "      \u003ctd\u003eNaN\u003c/td\u003e\n",
              "    \u003c/tr\u003e\n",
              "    \u003ctr\u003e\n",
              "      \u003cth\u003erandom2\u003c/th\u003e\n",
              "      \u003ctd\u003e-0.002514\u003c/td\u003e\n",
              "      \u003ctd\u003e0.004643\u003c/td\u003e\n",
              "      \u003ctd\u003e0.007638\u003c/td\u003e\n",
              "      \u003ctd\u003eFalse\u003c/td\u003e\n",
              "      \u003ctd\u003eNaN\u003c/td\u003e\n",
              "    \u003c/tr\u003e\n",
              "    \u003ctr\u003e\n",
              "      \u003cth\u003erandom1\u003c/th\u003e\n",
              "      \u003ctd\u003e-0.000956\u003c/td\u003e\n",
              "      \u003ctd\u003e0.005679\u003c/td\u003e\n",
              "      \u003ctd\u003e0.009342\u003c/td\u003e\n",
              "      \u003ctd\u003eFalse\u003c/td\u003e\n",
              "      \u003ctd\u003eNaN\u003c/td\u003e\n",
              "    \u003c/tr\u003e\n",
              "  \u003c/tbody\u003e\n",
              "\u003c/table\u003e\n",
              "\u003c/div\u003e"
            ],
            "text/plain": [
              "                   effect  ...  significant_permutation\n",
              "collinear_var2b  4.763053  ...                      NaN\n",
              "var3            -0.495648  ...                      NaN\n",
              "var1             0.100915  ...                      NaN\n",
              "random3         -0.006032  ...                      NaN\n",
              "Intercept       -0.002970  ...                      NaN\n",
              "random2         -0.002514  ...                      NaN\n",
              "random1         -0.000956  ...                      NaN\n",
              "\n",
              "[7 rows x 5 columns]"
            ]
          },
          "execution_count": 74,
          "metadata": {
            "tags": []
          },
          "output_type": "execute_result"
        }
      ],
      "source": [
        "less_naive_model.fit_bootstrap(50, n_jobs=1, verbose=False)\n",
        "less_naive_model.get_results()"
      ]
    },
    {
      "cell_type": "code",
      "execution_count": 75,
      "metadata": {
        "colab": {
          "height": 266
        },
        "executionInfo": {
          "elapsed": 1168,
          "status": "ok",
          "timestamp": 1611052353263,
          "user": {
            "displayName": "",
            "photoUrl": "",
            "userId": ""
          },
          "user_tz": 0
        },
        "id": "QB7nIhy1tb2R",
        "outputId": "b6929299-3d94-46e1-cb80-3ab55e27fd26"
      },
      "outputs": [
        {
          "data": {
            "text/html": [
              "\u003cdiv\u003e\n",
              "\u003cstyle scoped\u003e\n",
              "    .dataframe tbody tr th:only-of-type {\n",
              "        vertical-align: middle;\n",
              "    }\n",
              "\n",
              "    .dataframe tbody tr th {\n",
              "        vertical-align: top;\n",
              "    }\n",
              "\n",
              "    .dataframe thead th {\n",
              "        text-align: right;\n",
              "    }\n",
              "\u003c/style\u003e\n",
              "\u003ctable border=\"1\" class=\"dataframe\"\u003e\n",
              "  \u003cthead\u003e\n",
              "    \u003ctr style=\"text-align: right;\"\u003e\n",
              "      \u003cth\u003e\u003c/th\u003e\n",
              "      \u003cth\u003eeffect\u003c/th\u003e\n",
              "      \u003cth\u003ebootstrap_std\u003c/th\u003e\n",
              "      \u003cth\u003econfidence_interval\u003c/th\u003e\n",
              "      \u003cth\u003esignificant_bootstrap\u003c/th\u003e\n",
              "      \u003cth\u003esignificant_permutation\u003c/th\u003e\n",
              "    \u003c/tr\u003e\n",
              "  \u003c/thead\u003e\n",
              "  \u003ctbody\u003e\n",
              "    \u003ctr\u003e\n",
              "      \u003cth\u003ecollinear_var2b\u003c/th\u003e\n",
              "      \u003ctd\u003e4.763053\u003c/td\u003e\n",
              "      \u003ctd\u003e0.004885\u003c/td\u003e\n",
              "      \u003ctd\u003e0.008035\u003c/td\u003e\n",
              "      \u003ctd\u003eTrue\u003c/td\u003e\n",
              "      \u003ctd\u003eTrue\u003c/td\u003e\n",
              "    \u003c/tr\u003e\n",
              "    \u003ctr\u003e\n",
              "      \u003cth\u003evar3\u003c/th\u003e\n",
              "      \u003ctd\u003e-0.495648\u003c/td\u003e\n",
              "      \u003ctd\u003e0.004756\u003c/td\u003e\n",
              "      \u003ctd\u003e0.007824\u003c/td\u003e\n",
              "      \u003ctd\u003eTrue\u003c/td\u003e\n",
              "      \u003ctd\u003eTrue\u003c/td\u003e\n",
              "    \u003c/tr\u003e\n",
              "    \u003ctr\u003e\n",
              "      \u003cth\u003evar1\u003c/th\u003e\n",
              "      \u003ctd\u003e0.100915\u003c/td\u003e\n",
              "      \u003ctd\u003e0.010338\u003c/td\u003e\n",
              "      \u003ctd\u003e0.017004\u003c/td\u003e\n",
              "      \u003ctd\u003eTrue\u003c/td\u003e\n",
              "      \u003ctd\u003eTrue\u003c/td\u003e\n",
              "    \u003c/tr\u003e\n",
              "    \u003ctr\u003e\n",
              "      \u003cth\u003erandom3\u003c/th\u003e\n",
              "      \u003ctd\u003e-0.006032\u003c/td\u003e\n",
              "      \u003ctd\u003e0.005466\u003c/td\u003e\n",
              "      \u003ctd\u003e0.008990\u003c/td\u003e\n",
              "      \u003ctd\u003eFalse\u003c/td\u003e\n",
              "      \u003ctd\u003eFalse\u003c/td\u003e\n",
              "    \u003c/tr\u003e\n",
              "    \u003ctr\u003e\n",
              "      \u003cth\u003eIntercept\u003c/th\u003e\n",
              "      \u003ctd\u003e-0.002970\u003c/td\u003e\n",
              "      \u003ctd\u003e0.007288\u003c/td\u003e\n",
              "      \u003ctd\u003e0.011987\u003c/td\u003e\n",
              "      \u003ctd\u003eFalse\u003c/td\u003e\n",
              "      \u003ctd\u003eTrue\u003c/td\u003e\n",
              "    \u003c/tr\u003e\n",
              "    \u003ctr\u003e\n",
              "      \u003cth\u003erandom2\u003c/th\u003e\n",
              "      \u003ctd\u003e-0.002514\u003c/td\u003e\n",
              "      \u003ctd\u003e0.004643\u003c/td\u003e\n",
              "      \u003ctd\u003e0.007638\u003c/td\u003e\n",
              "      \u003ctd\u003eFalse\u003c/td\u003e\n",
              "      \u003ctd\u003eFalse\u003c/td\u003e\n",
              "    \u003c/tr\u003e\n",
              "    \u003ctr\u003e\n",
              "      \u003cth\u003erandom1\u003c/th\u003e\n",
              "      \u003ctd\u003e-0.000956\u003c/td\u003e\n",
              "      \u003ctd\u003e0.005679\u003c/td\u003e\n",
              "      \u003ctd\u003e0.009342\u003c/td\u003e\n",
              "      \u003ctd\u003eFalse\u003c/td\u003e\n",
              "      \u003ctd\u003eFalse\u003c/td\u003e\n",
              "    \u003c/tr\u003e\n",
              "  \u003c/tbody\u003e\n",
              "\u003c/table\u003e\n",
              "\u003c/div\u003e"
            ],
            "text/plain": [
              "                   effect  ...  significant_permutation\n",
              "collinear_var2b  4.763053  ...                     True\n",
              "var3            -0.495648  ...                     True\n",
              "var1             0.100915  ...                     True\n",
              "random3         -0.006032  ...                    False\n",
              "Intercept       -0.002970  ...                     True\n",
              "random2         -0.002514  ...                    False\n",
              "random1         -0.000956  ...                    False\n",
              "\n",
              "[7 rows x 5 columns]"
            ]
          },
          "execution_count": 75,
          "metadata": {
            "tags": []
          },
          "output_type": "execute_result"
        }
      ],
      "source": [
        "less_naive_model.permutation_test(50, n_jobs=1, verbose=False)\n",
        "less_naive_model.get_results()"
      ]
    },
    {
      "cell_type": "code",
      "execution_count": null,
      "metadata": {
        "id": "CTU0ueDqpP_z"
      },
      "outputs": [],
      "source": [
        ""
      ]
    }
  ],
  "metadata": {
    "colab": {
      "collapsed_sections": [],
      "last_runtime": {
        "build_target": "//corp/gtech/ads/infrastructure/colab_utils/ds_runtime:ds_colab",
        "kind": "private"
      },
      "name": "simple_simulation.ipynb",
      "provenance": [
        {
          "file_id": "1InaKxr0YFOCAHtTPmDXYNTOGslffWnwe",
          "timestamp": 1610621834032
        }
      ],
      "toc_visible": true
    },
    "kernelspec": {
      "display_name": "Python 3",
      "name": "python3"
    }
  },
  "nbformat": 4,
  "nbformat_minor": 0
}
