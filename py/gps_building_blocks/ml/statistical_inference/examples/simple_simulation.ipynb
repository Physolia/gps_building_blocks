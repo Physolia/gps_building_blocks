{
  "cells": [
    {
      "cell_type": "code",
      "execution_count": null,
      "metadata": {
        "id": "oel9ICRcA7mm"
      },
      "outputs": [],
      "source": [
        "# Copyright 2020 Google LLC\n",
        "#\n",
        "# Licensed under the Apache License, Version 2.0 (the \"License\");\n",
        "# you may not use this file except in compliance with the License.\n",
        "# You may obtain a copy of the License at\n",
        "#\n",
        "#      http://www.apache.org/licenses/LICENSE-2.0\n",
        "#\n",
        "# Unless required by applicable law or agreed to in writing, software\n",
        "# distributed under the License is distributed on an \"AS IS\" BASIS,\n",
        "# WITHOUT WARRANTIES OR CONDITIONS OF ANY KIND, either express or implied.\n",
        "# See the License for the specific language governing permissions and\n",
        "# limitations under the License."
      ]
    },
    {
      "cell_type": "code",
      "execution_count": null,
      "metadata": {
        "id": "V-NaJIXUpwdK"
      },
      "outputs": [],
      "source": [
        "import pandas as pd\n",
        "import numpy as np\n",
        "\n",
        "from gps_building_blocks.py.ml.statistical_inference import data_preparation\n",
        "from gps_building_blocks.py.ml.statistical_inference import models"
      ]
    },
    {
      "cell_type": "markdown",
      "metadata": {
        "id": "D7scsM_mcVTD"
      },
      "source": [
        "# Simulate some data\n",
        "Let's create some random simulated data, where the target variables will be\n",
        "```\n",
        "y = var1 * 0.1 + var2 * 5.0 + var3 * -0.5 + e\n",
        "```\n",
        "To complicate the problems, we're going to add adding the following type of variables:\n",
        "\n",
        "* `constant`: Variable with no variation that carries no information.\n",
        "* `collinear`: Collinear variables which are highly correlated. In our example we'll have an highly correlated variable and an identical copy to `var2`.\n",
        "* `random`: Random variables with no relationship with the target variable."
      ]
    },
    {
      "cell_type": "code",
      "execution_count": 157,
      "metadata": {
        "executionInfo": {
          "elapsed": 420,
          "status": "ok",
          "timestamp": 1611311932888,
          "user": {
            "displayName": "",
            "photoUrl": "",
            "userId": ""
          },
          "user_tz": 0
        },
        "id": "M1DSGRetSNVr"
      },
      "outputs": [],
      "source": [
        "def _correlate(series: pd.Series, correlation_value: int, seed: int = 0):\n",
        "  \"\"\"Generates a correlated random variables from a given series.\"\"\"\n",
        "  # https://stats.stackexchange.com/questions/38856/how-to-generate-correlated-random-numbers-given-means-variances-and-degree-of\n",
        "  np.random.seed(seed)\n",
        "  value_error_term = 1 - correlation_value**2\n",
        "  error_terms = np.random.normal(0, value_error_term**0.5, len(series))\n",
        "  return series * correlation_value + error_terms\n",
        "\n",
        "\n",
        "np.random.seed(18)\n",
        "data = pd.DataFrame(np.random.normal(0, 1, (10000, 6)))\n",
        "data[0] = (data[0] \u003e= 0.0).astype(int)\n",
        "\n",
        "data['constant'] = 1\n",
        "data['var1'] = data[0]\n",
        "data['var2'] = data[1]\n",
        "data['var3'] = data[2]\n",
        "data['collinear_var2a'] = data['var2']\n",
        "data['collinear_var2b'] = _correlate(data['var2'], correlation_value=0.99)\n",
        "data['random1'] = data[3]\n",
        "data['random2'] = data[4]\n",
        "data['random3'] = data[5]\n",
        "data['target'] = (\n",
        "    data['var1'] * 0.1 +\n",
        "    data['var2'] * 5.0 +\n",
        "    data['var3'] * -0.5 +\n",
        "    (np.random.rand(len(data))-0.5) # Adding Noise\n",
        "    )"
      ]
    },
    {
      "cell_type": "markdown",
      "metadata": {
        "id": "fwYgDnJddmsh"
      },
      "source": [
        "## These are the `collinear` variables introduced and their relationship with `var2`.\n",
        "This show that `var2` and `collinear_var2a` are identical, while `var2` and `collinear_var2b` are highly correlated."
      ]
    },
    {
      "cell_type": "code",
      "execution_count": 158,
      "metadata": {
        "colab": {
          "height": 549
        },
        "executionInfo": {
          "elapsed": 1006,
          "status": "ok",
          "timestamp": 1611311936039,
          "user": {
            "displayName": "",
            "photoUrl": "",
            "userId": ""
          },
          "user_tz": 0
        },
        "id": "xjmE6YmlbTKH",
        "outputId": "1e77f107-01d3-4ecb-96c4-ea2d720343f1"
      },
      "outputs": [
        {
          "data": {
            "image/png": "[encoded data removed]",
            "text/plain": [
              "\u003cFigure size 600x400 with 1 Axes\u003e"
            ]
          },
          "metadata": {
            "tags": []
          },
          "output_type": "display_data"
        },
        {
          "data": {
            "image/png": "[encoded data removed]",
            "text/plain": [
              "\u003cFigure size 600x400 with 1 Axes\u003e"
            ]
          },
          "metadata": {
            "tags": []
          },
          "output_type": "display_data"
        }
      ],
      "source": [
        "_ = data.plot.scatter('var2', 'collinear_var2b')\n",
        "_ = data.plot.scatter('var2', 'collinear_var2a')"
      ]
    },
    {
      "cell_type": "markdown",
      "metadata": {
        "id": "X81lIHO8d3aO"
      },
      "source": [
        "# Modelling\n",
        "## Preparing our `InferenceData` container."
      ]
    },
    {
      "cell_type": "code",
      "execution_count": 159,
      "metadata": {
        "colab": {
          "height": 419
        },
        "executionInfo": {
          "elapsed": 403,
          "status": "ok",
          "timestamp": 1611311938078,
          "user": {
            "displayName": "",
            "photoUrl": "",
            "userId": ""
          },
          "user_tz": 0
        },
        "id": "J2E6MfZYSkky",
        "outputId": "4401d09a-222f-44e1-e514-dcf65cfc38a4"
      },
      "outputs": [
        {
          "data": {
            "text/html": [
              "\u003cdiv\u003e\n",
              "\u003cstyle scoped\u003e\n",
              "    .dataframe tbody tr th:only-of-type {\n",
              "        vertical-align: middle;\n",
              "    }\n",
              "\n",
              "    .dataframe tbody tr th {\n",
              "        vertical-align: top;\n",
              "    }\n",
              "\n",
              "    .dataframe thead th {\n",
              "        text-align: right;\n",
              "    }\n",
              "\u003c/style\u003e\n",
              "\u003ctable border=\"1\" class=\"dataframe\"\u003e\n",
              "  \u003cthead\u003e\n",
              "    \u003ctr style=\"text-align: right;\"\u003e\n",
              "      \u003cth\u003e\u003c/th\u003e\n",
              "      \u003cth\u003econstant\u003c/th\u003e\n",
              "      \u003cth\u003ecollinear_var2a\u003c/th\u003e\n",
              "      \u003cth\u003ecollinear_var2b\u003c/th\u003e\n",
              "      \u003cth\u003evar1\u003c/th\u003e\n",
              "      \u003cth\u003evar2\u003c/th\u003e\n",
              "      \u003cth\u003evar3\u003c/th\u003e\n",
              "      \u003cth\u003erandom1\u003c/th\u003e\n",
              "      \u003cth\u003erandom2\u003c/th\u003e\n",
              "      \u003cth\u003erandom3\u003c/th\u003e\n",
              "      \u003cth\u003etarget\u003c/th\u003e\n",
              "    \u003c/tr\u003e\n",
              "  \u003c/thead\u003e\n",
              "  \u003ctbody\u003e\n",
              "    \u003ctr\u003e\n",
              "      \u003cth\u003e0\u003c/th\u003e\n",
              "      \u003ctd\u003e1\u003c/td\u003e\n",
              "      \u003ctd\u003e2.190202\u003c/td\u003e\n",
              "      \u003ctd\u003e2.417151\u003c/td\u003e\n",
              "      \u003ctd\u003e1\u003c/td\u003e\n",
              "      \u003ctd\u003e2.190202\u003c/td\u003e\n",
              "      \u003ctd\u003e-0.134892\u003c/td\u003e\n",
              "      \u003ctd\u003e0.160518\u003c/td\u003e\n",
              "      \u003ctd\u003e0.442698\u003c/td\u003e\n",
              "      \u003ctd\u003e0.623391\u003c/td\u003e\n",
              "      \u003ctd\u003e10.714125\u003c/td\u003e\n",
              "    \u003c/tr\u003e\n",
              "    \u003ctr\u003e\n",
              "      \u003cth\u003e1\u003c/th\u003e\n",
              "      \u003ctd\u003e1\u003c/td\u003e\n",
              "      \u003ctd\u003e0.394249\u003c/td\u003e\n",
              "      \u003ctd\u003e0.446755\u003c/td\u003e\n",
              "      \u003ctd\u003e1\u003c/td\u003e\n",
              "      \u003ctd\u003e0.394249\u003c/td\u003e\n",
              "      \u003ctd\u003e-0.336387\u003c/td\u003e\n",
              "      \u003ctd\u003e-0.645906\u003c/td\u003e\n",
              "      \u003ctd\u003e0.805458\u003c/td\u003e\n",
              "      \u003ctd\u003e0.416443\u003c/td\u003e\n",
              "      \u003ctd\u003e2.141358\u003c/td\u003e\n",
              "    \u003c/tr\u003e\n",
              "    \u003ctr\u003e\n",
              "      \u003cth\u003e2\u003c/th\u003e\n",
              "      \u003ctd\u003e1\u003c/td\u003e\n",
              "      \u003ctd\u003e-1.101671\u003c/td\u003e\n",
              "      \u003ctd\u003e-0.952587\u003c/td\u003e\n",
              "      \u003ctd\u003e1\u003c/td\u003e\n",
              "      \u003ctd\u003e-1.101671\u003c/td\u003e\n",
              "      \u003ctd\u003e-0.994757\u003c/td\u003e\n",
              "      \u003ctd\u003e1.345519\u003c/td\u003e\n",
              "      \u003ctd\u003e0.581868\u003c/td\u003e\n",
              "      \u003ctd\u003e0.537239\u003c/td\u003e\n",
              "      \u003ctd\u003e-4.885428\u003c/td\u003e\n",
              "    \u003c/tr\u003e\n",
              "    \u003ctr\u003e\n",
              "      \u003cth\u003e3\u003c/th\u003e\n",
              "      \u003ctd\u003e1\u003c/td\u003e\n",
              "      \u003ctd\u003e-0.290324\u003c/td\u003e\n",
              "      \u003ctd\u003e0.028696\u003c/td\u003e\n",
              "      \u003ctd\u003e1\u003c/td\u003e\n",
              "      \u003ctd\u003e-0.290324\u003c/td\u003e\n",
              "      \u003ctd\u003e0.601365\u003c/td\u003e\n",
              "      \u003ctd\u003e-0.564527\u003c/td\u003e\n",
              "      \u003ctd\u003e-1.167952\u003c/td\u003e\n",
              "      \u003ctd\u003e-1.022002\u003c/td\u003e\n",
              "      \u003ctd\u003e-1.419971\u003c/td\u003e\n",
              "    \u003c/tr\u003e\n",
              "    \u003ctr\u003e\n",
              "      \u003cth\u003e4\u003c/th\u003e\n",
              "      \u003ctd\u003e1\u003c/td\u003e\n",
              "      \u003ctd\u003e-0.533744\u003c/td\u003e\n",
              "      \u003ctd\u003e-0.264956\u003c/td\u003e\n",
              "      \u003ctd\u003e1\u003c/td\u003e\n",
              "      \u003ctd\u003e-0.533744\u003c/td\u003e\n",
              "      \u003ctd\u003e-1.350432\u003c/td\u003e\n",
              "      \u003ctd\u003e0.230094\u003c/td\u003e\n",
              "      \u003ctd\u003e0.894855\u003c/td\u003e\n",
              "      \u003ctd\u003e1.370760\u003c/td\u003e\n",
              "      \u003ctd\u003e-2.258228\u003c/td\u003e\n",
              "    \u003c/tr\u003e\n",
              "    \u003ctr\u003e\n",
              "      \u003cth\u003e...\u003c/th\u003e\n",
              "      \u003ctd\u003e...\u003c/td\u003e\n",
              "      \u003ctd\u003e...\u003c/td\u003e\n",
              "      \u003ctd\u003e...\u003c/td\u003e\n",
              "      \u003ctd\u003e...\u003c/td\u003e\n",
              "      \u003ctd\u003e...\u003c/td\u003e\n",
              "      \u003ctd\u003e...\u003c/td\u003e\n",
              "      \u003ctd\u003e...\u003c/td\u003e\n",
              "      \u003ctd\u003e...\u003c/td\u003e\n",
              "      \u003ctd\u003e...\u003c/td\u003e\n",
              "      \u003ctd\u003e...\u003c/td\u003e\n",
              "    \u003c/tr\u003e\n",
              "    \u003ctr\u003e\n",
              "      \u003cth\u003e9995\u003c/th\u003e\n",
              "      \u003ctd\u003e1\u003c/td\u003e\n",
              "      \u003ctd\u003e0.014323\u003c/td\u003e\n",
              "      \u003ctd\u003e-0.241051\u003c/td\u003e\n",
              "      \u003ctd\u003e1\u003c/td\u003e\n",
              "      \u003ctd\u003e0.014323\u003c/td\u003e\n",
              "      \u003ctd\u003e1.665111\u003c/td\u003e\n",
              "      \u003ctd\u003e-1.017854\u003c/td\u003e\n",
              "      \u003ctd\u003e-1.210490\u003c/td\u003e\n",
              "      \u003ctd\u003e-0.471459\u003c/td\u003e\n",
              "      \u003ctd\u003e-0.910389\u003c/td\u003e\n",
              "    \u003c/tr\u003e\n",
              "    \u003ctr\u003e\n",
              "      \u003cth\u003e9996\u003c/th\u003e\n",
              "      \u003ctd\u003e1\u003c/td\u003e\n",
              "      \u003ctd\u003e-1.412006\u003c/td\u003e\n",
              "      \u003ctd\u003e-1.391911\u003c/td\u003e\n",
              "      \u003ctd\u003e0\u003c/td\u003e\n",
              "      \u003ctd\u003e-1.412006\u003c/td\u003e\n",
              "      \u003ctd\u003e-0.889559\u003c/td\u003e\n",
              "      \u003ctd\u003e0.286160\u003c/td\u003e\n",
              "      \u003ctd\u003e-0.717899\u003c/td\u003e\n",
              "      \u003ctd\u003e-0.185257\u003c/td\u003e\n",
              "      \u003ctd\u003e-6.616156\u003c/td\u003e\n",
              "    \u003c/tr\u003e\n",
              "    \u003ctr\u003e\n",
              "      \u003cth\u003e9997\u003c/th\u003e\n",
              "      \u003ctd\u003e1\u003c/td\u003e\n",
              "      \u003ctd\u003e-1.574446\u003c/td\u003e\n",
              "      \u003ctd\u003e-1.485788\u003c/td\u003e\n",
              "      \u003ctd\u003e1\u003c/td\u003e\n",
              "      \u003ctd\u003e-1.574446\u003c/td\u003e\n",
              "      \u003ctd\u003e-0.798709\u003c/td\u003e\n",
              "      \u003ctd\u003e0.159415\u003c/td\u003e\n",
              "      \u003ctd\u003e-0.751403\u003c/td\u003e\n",
              "      \u003ctd\u003e-1.884470\u003c/td\u003e\n",
              "      \u003ctd\u003e-7.731170\u003c/td\u003e\n",
              "    \u003c/tr\u003e\n",
              "    \u003ctr\u003e\n",
              "      \u003cth\u003e9998\u003c/th\u003e\n",
              "      \u003ctd\u003e1\u003c/td\u003e\n",
              "      \u003ctd\u003e0.178639\u003c/td\u003e\n",
              "      \u003ctd\u003e0.172208\u003c/td\u003e\n",
              "      \u003ctd\u003e0\u003c/td\u003e\n",
              "      \u003ctd\u003e0.178639\u003c/td\u003e\n",
              "      \u003ctd\u003e0.678814\u003c/td\u003e\n",
              "      \u003ctd\u003e-2.442013\u003c/td\u003e\n",
              "      \u003ctd\u003e-0.698395\u003c/td\u003e\n",
              "      \u003ctd\u003e0.538507\u003c/td\u003e\n",
              "      \u003ctd\u003e0.428577\u003c/td\u003e\n",
              "    \u003c/tr\u003e\n",
              "    \u003ctr\u003e\n",
              "      \u003cth\u003e9999\u003c/th\u003e\n",
              "      \u003ctd\u003e1\u003c/td\u003e\n",
              "      \u003ctd\u003e-1.222433\u003c/td\u003e\n",
              "      \u003ctd\u003e-1.027087\u003c/td\u003e\n",
              "      \u003ctd\u003e0\u003c/td\u003e\n",
              "      \u003ctd\u003e-1.222433\u003c/td\u003e\n",
              "      \u003ctd\u003e-1.605627\u003c/td\u003e\n",
              "      \u003ctd\u003e-0.610532\u003c/td\u003e\n",
              "      \u003ctd\u003e-0.653559\u003c/td\u003e\n",
              "      \u003ctd\u003e0.228353\u003c/td\u003e\n",
              "      \u003ctd\u003e-5.261692\u003c/td\u003e\n",
              "    \u003c/tr\u003e\n",
              "  \u003c/tbody\u003e\n",
              "\u003c/table\u003e\n",
              "\u003cp\u003e10000 rows × 10 columns\u003c/p\u003e\n",
              "\u003c/div\u003e"
            ],
            "text/plain": [
              "      constant  collinear_var2a  collinear_var2b  ...   random2   random3     target\n",
              "0            1         2.190202         2.417151  ...  0.442698  0.623391  10.714125\n",
              "1            1         0.394249         0.446755  ...  0.805458  0.416443   2.141358\n",
              "2            1        -1.101671        -0.952587  ...  0.581868  0.537239  -4.885428\n",
              "3            1        -0.290324         0.028696  ... -1.167952 -1.022002  -1.419971\n",
              "4            1        -0.533744        -0.264956  ...  0.894855  1.370760  -2.258228\n",
              "...        ...              ...              ...  ...       ...       ...        ...\n",
              "9995         1         0.014323        -0.241051  ... -1.210490 -0.471459  -0.910389\n",
              "9996         1        -1.412006        -1.391911  ... -0.717899 -0.185257  -6.616156\n",
              "9997         1        -1.574446        -1.485788  ... -0.751403 -1.884470  -7.731170\n",
              "9998         1         0.178639         0.172208  ... -0.698395  0.538507   0.428577\n",
              "9999         1        -1.222433        -1.027087  ... -0.653559  0.228353  -5.261692\n",
              "\n",
              "[10000 rows x 10 columns]"
            ]
          },
          "execution_count": 159,
          "metadata": {
            "tags": []
          },
          "output_type": "execute_result"
        }
      ],
      "source": [
        "inference_data = data_preparation.InferenceData(\n",
        "    initial_data=data[[\n",
        "        'constant',\n",
        "        'collinear_var2a', 'collinear_var2b',\n",
        "        'var1', 'var2', 'var3',\n",
        "        'random1', 'random2', 'random3',\n",
        "        'target'\n",
        "        ]],\n",
        "    target_column='target')\n",
        "inference_data.data"
      ]
    },
    {
      "cell_type": "markdown",
      "metadata": {
        "id": "-UDkPIBqeXC4"
      },
      "source": [
        "## Fitting a model with no data preparation.\n",
        "We can fit a model directly, setting the parameter `raise_on_data_error=False` to avoid `InferenceDataError` exception to be risen. This will skip any data check and you'll be notified with `InferenceDataWarning` warnings that some additionals step may be required before proceed with modelling."
      ]
    },
    {
      "cell_type": "markdown",
      "metadata": {
        "id": "vSKRHeEEgbI3"
      },
      "source": [
        "### Results\n",
        "These shows that the collinear variables are confounding when trying to recover the\n",
        "real effect. Also notice that a set of Warnings are triggered to inform you that the data was not prepared for modelling."
      ]
    },
    {
      "cell_type": "code",
      "execution_count": 160,
      "metadata": {
        "colab": {
          "height": 481
        },
        "executionInfo": {
          "elapsed": 409,
          "status": "ok",
          "timestamp": 1611311943553,
          "user": {
            "displayName": "",
            "photoUrl": "",
            "userId": ""
          },
          "user_tz": 0
        },
        "id": "2CaTaR7ZSknO",
        "outputId": "c404dddb-a604-43c7-b0d9-79ef2ef884c7"
      },
      "outputs": [
        {
          "name": "stderr",
          "output_type": "stream",
          "text": [
            "/google_src/head/depot/google3/third_party/gps_building_blocks/py/ml/statistical_inference/data_preparation.py:301: ControlVariableWarning: The data is not controlling for external factors. Consider using `fixed_effect` indicating the columns to use as controlfor external factors.\n",
            "  warnings.warn(ControlVariableWarning(message))\n",
            "/google_src/head/depot/google3/third_party/gps_building_blocks/py/ml/statistical_inference/data_preparation.py:397: LowVarianceWarning: The data may contain columns with low variance. Consider using `address_low_variance` identifying the columns with lowvariance and whether to drop those.\n",
            "  warnings.warn(LowVarianceWarning(message))\n",
            "/google_src/head/depot/google3/third_party/gps_building_blocks/py/ml/statistical_inference/data_preparation.py:443: CollinearityWarning: The data may contain collinearity between covariates. Consider using `address_collinearity_with_vif` to identify columns that are collinear and whether to drop them.\n",
            "  warnings.warn(CollinearityWarning(message))\n"
          ]
        },
        {
          "data": {
            "text/html": [
              "\u003cdiv\u003e\n",
              "\u003cstyle scoped\u003e\n",
              "    .dataframe tbody tr th:only-of-type {\n",
              "        vertical-align: middle;\n",
              "    }\n",
              "\n",
              "    .dataframe tbody tr th {\n",
              "        vertical-align: top;\n",
              "    }\n",
              "\n",
              "    .dataframe thead th {\n",
              "        text-align: right;\n",
              "    }\n",
              "\u003c/style\u003e\n",
              "\u003ctable border=\"1\" class=\"dataframe\"\u003e\n",
              "  \u003cthead\u003e\n",
              "    \u003ctr style=\"text-align: right;\"\u003e\n",
              "      \u003cth\u003e\u003c/th\u003e\n",
              "      \u003cth\u003eeffect\u003c/th\u003e\n",
              "      \u003cth\u003ebootstrap_std\u003c/th\u003e\n",
              "      \u003cth\u003econfidence_interval\u003c/th\u003e\n",
              "      \u003cth\u003esignificant_bootstrap\u003c/th\u003e\n",
              "      \u003cth\u003esignificant_permutation\u003c/th\u003e\n",
              "    \u003c/tr\u003e\n",
              "  \u003c/thead\u003e\n",
              "  \u003ctbody\u003e\n",
              "    \u003ctr\u003e\n",
              "      \u003cth\u003evar2\u003c/th\u003e\n",
              "      \u003ctd\u003e2.131860\u003c/td\u003e\n",
              "      \u003ctd\u003eNaN\u003c/td\u003e\n",
              "      \u003ctd\u003eNaN\u003c/td\u003e\n",
              "      \u003ctd\u003eNaN\u003c/td\u003e\n",
              "      \u003ctd\u003eNaN\u003c/td\u003e\n",
              "    \u003c/tr\u003e\n",
              "    \u003ctr\u003e\n",
              "      \u003cth\u003ecollinear_var2a\u003c/th\u003e\n",
              "      \u003ctd\u003e2.131860\u003c/td\u003e\n",
              "      \u003ctd\u003eNaN\u003c/td\u003e\n",
              "      \u003ctd\u003eNaN\u003c/td\u003e\n",
              "      \u003ctd\u003eNaN\u003c/td\u003e\n",
              "      \u003ctd\u003eNaN\u003c/td\u003e\n",
              "    \u003c/tr\u003e\n",
              "    \u003ctr\u003e\n",
              "      \u003cth\u003ecollinear_var2b\u003c/th\u003e\n",
              "      \u003ctd\u003e0.720692\u003c/td\u003e\n",
              "      \u003ctd\u003eNaN\u003c/td\u003e\n",
              "      \u003ctd\u003eNaN\u003c/td\u003e\n",
              "      \u003ctd\u003eNaN\u003c/td\u003e\n",
              "      \u003ctd\u003eNaN\u003c/td\u003e\n",
              "    \u003c/tr\u003e\n",
              "    \u003ctr\u003e\n",
              "      \u003cth\u003evar3\u003c/th\u003e\n",
              "      \u003ctd\u003e-0.496107\u003c/td\u003e\n",
              "      \u003ctd\u003eNaN\u003c/td\u003e\n",
              "      \u003ctd\u003eNaN\u003c/td\u003e\n",
              "      \u003ctd\u003eNaN\u003c/td\u003e\n",
              "      \u003ctd\u003eNaN\u003c/td\u003e\n",
              "    \u003c/tr\u003e\n",
              "    \u003ctr\u003e\n",
              "      \u003cth\u003evar1\u003c/th\u003e\n",
              "      \u003ctd\u003e0.101831\u003c/td\u003e\n",
              "      \u003ctd\u003eNaN\u003c/td\u003e\n",
              "      \u003ctd\u003eNaN\u003c/td\u003e\n",
              "      \u003ctd\u003eNaN\u003c/td\u003e\n",
              "      \u003ctd\u003eNaN\u003c/td\u003e\n",
              "    \u003c/tr\u003e\n",
              "    \u003ctr\u003e\n",
              "      \u003cth\u003erandom3\u003c/th\u003e\n",
              "      \u003ctd\u003e0.004408\u003c/td\u003e\n",
              "      \u003ctd\u003eNaN\u003c/td\u003e\n",
              "      \u003ctd\u003eNaN\u003c/td\u003e\n",
              "      \u003ctd\u003eNaN\u003c/td\u003e\n",
              "      \u003ctd\u003eNaN\u003c/td\u003e\n",
              "    \u003c/tr\u003e\n",
              "    \u003ctr\u003e\n",
              "      \u003cth\u003erandom1\u003c/th\u003e\n",
              "      \u003ctd\u003e0.002422\u003c/td\u003e\n",
              "      \u003ctd\u003eNaN\u003c/td\u003e\n",
              "      \u003ctd\u003eNaN\u003c/td\u003e\n",
              "      \u003ctd\u003eNaN\u003c/td\u003e\n",
              "      \u003ctd\u003eNaN\u003c/td\u003e\n",
              "    \u003c/tr\u003e\n",
              "    \u003ctr\u003e\n",
              "      \u003cth\u003eIntercept\u003c/th\u003e\n",
              "      \u003ctd\u003e0.000680\u003c/td\u003e\n",
              "      \u003ctd\u003eNaN\u003c/td\u003e\n",
              "      \u003ctd\u003eNaN\u003c/td\u003e\n",
              "      \u003ctd\u003eNaN\u003c/td\u003e\n",
              "      \u003ctd\u003eNaN\u003c/td\u003e\n",
              "    \u003c/tr\u003e\n",
              "    \u003ctr\u003e\n",
              "      \u003cth\u003erandom2\u003c/th\u003e\n",
              "      \u003ctd\u003e0.000433\u003c/td\u003e\n",
              "      \u003ctd\u003eNaN\u003c/td\u003e\n",
              "      \u003ctd\u003eNaN\u003c/td\u003e\n",
              "      \u003ctd\u003eNaN\u003c/td\u003e\n",
              "      \u003ctd\u003eNaN\u003c/td\u003e\n",
              "    \u003c/tr\u003e\n",
              "    \u003ctr\u003e\n",
              "      \u003cth\u003econstant\u003c/th\u003e\n",
              "      \u003ctd\u003e0.000000\u003c/td\u003e\n",
              "      \u003ctd\u003eNaN\u003c/td\u003e\n",
              "      \u003ctd\u003eNaN\u003c/td\u003e\n",
              "      \u003ctd\u003eNaN\u003c/td\u003e\n",
              "      \u003ctd\u003eNaN\u003c/td\u003e\n",
              "    \u003c/tr\u003e\n",
              "  \u003c/tbody\u003e\n",
              "\u003c/table\u003e\n",
              "\u003c/div\u003e"
            ],
            "text/plain": [
              "                   effect  ...  significant_permutation\n",
              "var2             2.131860  ...                      NaN\n",
              "collinear_var2a  2.131860  ...                      NaN\n",
              "collinear_var2b  0.720692  ...                      NaN\n",
              "var3            -0.496107  ...                      NaN\n",
              "var1             0.101831  ...                      NaN\n",
              "random3          0.004408  ...                      NaN\n",
              "random1          0.002422  ...                      NaN\n",
              "Intercept        0.000680  ...                      NaN\n",
              "random2          0.000433  ...                      NaN\n",
              "constant         0.000000  ...                      NaN\n",
              "\n",
              "[10 rows x 5 columns]"
            ]
          },
          "execution_count": 160,
          "metadata": {
            "tags": []
          },
          "output_type": "execute_result"
        }
      ],
      "source": [
        "naive_model = models.InferenceRidge(alpha=100)\n",
        "naive_model.fit(inference_data, raise_on_data_error=False)\n",
        "naive_model.get_results()"
      ]
    },
    {
      "cell_type": "markdown",
      "metadata": {
        "id": "cGfkmcwlm-On"
      },
      "source": [
        "Note that a strong regularization has been used in the Ridge regression (`alpha=1000`) to emphatize the collinarity issue."
      ]
    },
    {
      "cell_type": "markdown",
      "metadata": {
        "id": "AoGysRuQfk-B"
      },
      "source": [
        "## Preparing the data correctly before fitting a model.\n",
        "Before modelling, we want to:\n",
        "\n",
        "* Remove low-variance variables, in our case the `constant` variable.\n",
        "* Remove collinear variables, in our case removing two the `var2`.\n",
        "\n",
        "Note that we should also control for external factors, which are not present in this example."
      ]
    },
    {
      "cell_type": "markdown",
      "metadata": {
        "id": "gyH_tWuV5Ugw"
      },
      "source": [
        "### Addressing low variance variables\n",
        "The method `address_low_variance(threshold=0, drop=True)` in `InferenceData` identifies low variances variables and have an option to drop them. When variance threshold is zero, means the variable has no variation and is a constant value for all the observations.\n",
        "\n",
        "After running the method, the `constant` column in the `InferenceData` has been remove from the dataframe.\n"
      ]
    },
    {
      "cell_type": "code",
      "execution_count": 161,
      "metadata": {
        "colab": {
          "height": 419
        },
        "executionInfo": {
          "elapsed": 469,
          "status": "ok",
          "timestamp": 1611311956742,
          "user": {
            "displayName": "",
            "photoUrl": "",
            "userId": ""
          },
          "user_tz": 0
        },
        "id": "wK1LQe7jSkqB",
        "outputId": "633d39e0-e8e4-4ecc-d87b-71a74ab93c56"
      },
      "outputs": [
        {
          "data": {
            "text/html": [
              "\u003cdiv\u003e\n",
              "\u003cstyle scoped\u003e\n",
              "    .dataframe tbody tr th:only-of-type {\n",
              "        vertical-align: middle;\n",
              "    }\n",
              "\n",
              "    .dataframe tbody tr th {\n",
              "        vertical-align: top;\n",
              "    }\n",
              "\n",
              "    .dataframe thead th {\n",
              "        text-align: right;\n",
              "    }\n",
              "\u003c/style\u003e\n",
              "\u003ctable border=\"1\" class=\"dataframe\"\u003e\n",
              "  \u003cthead\u003e\n",
              "    \u003ctr style=\"text-align: right;\"\u003e\n",
              "      \u003cth\u003e\u003c/th\u003e\n",
              "      \u003cth\u003ecollinear_var2a\u003c/th\u003e\n",
              "      \u003cth\u003ecollinear_var2b\u003c/th\u003e\n",
              "      \u003cth\u003evar1\u003c/th\u003e\n",
              "      \u003cth\u003evar2\u003c/th\u003e\n",
              "      \u003cth\u003evar3\u003c/th\u003e\n",
              "      \u003cth\u003erandom1\u003c/th\u003e\n",
              "      \u003cth\u003erandom2\u003c/th\u003e\n",
              "      \u003cth\u003erandom3\u003c/th\u003e\n",
              "      \u003cth\u003etarget\u003c/th\u003e\n",
              "    \u003c/tr\u003e\n",
              "  \u003c/thead\u003e\n",
              "  \u003ctbody\u003e\n",
              "    \u003ctr\u003e\n",
              "      \u003cth\u003e0\u003c/th\u003e\n",
              "      \u003ctd\u003e2.190202\u003c/td\u003e\n",
              "      \u003ctd\u003e2.417151\u003c/td\u003e\n",
              "      \u003ctd\u003e1\u003c/td\u003e\n",
              "      \u003ctd\u003e2.190202\u003c/td\u003e\n",
              "      \u003ctd\u003e-0.134892\u003c/td\u003e\n",
              "      \u003ctd\u003e0.160518\u003c/td\u003e\n",
              "      \u003ctd\u003e0.442698\u003c/td\u003e\n",
              "      \u003ctd\u003e0.623391\u003c/td\u003e\n",
              "      \u003ctd\u003e10.714125\u003c/td\u003e\n",
              "    \u003c/tr\u003e\n",
              "    \u003ctr\u003e\n",
              "      \u003cth\u003e1\u003c/th\u003e\n",
              "      \u003ctd\u003e0.394249\u003c/td\u003e\n",
              "      \u003ctd\u003e0.446755\u003c/td\u003e\n",
              "      \u003ctd\u003e1\u003c/td\u003e\n",
              "      \u003ctd\u003e0.394249\u003c/td\u003e\n",
              "      \u003ctd\u003e-0.336387\u003c/td\u003e\n",
              "      \u003ctd\u003e-0.645906\u003c/td\u003e\n",
              "      \u003ctd\u003e0.805458\u003c/td\u003e\n",
              "      \u003ctd\u003e0.416443\u003c/td\u003e\n",
              "      \u003ctd\u003e2.141358\u003c/td\u003e\n",
              "    \u003c/tr\u003e\n",
              "    \u003ctr\u003e\n",
              "      \u003cth\u003e2\u003c/th\u003e\n",
              "      \u003ctd\u003e-1.101671\u003c/td\u003e\n",
              "      \u003ctd\u003e-0.952587\u003c/td\u003e\n",
              "      \u003ctd\u003e1\u003c/td\u003e\n",
              "      \u003ctd\u003e-1.101671\u003c/td\u003e\n",
              "      \u003ctd\u003e-0.994757\u003c/td\u003e\n",
              "      \u003ctd\u003e1.345519\u003c/td\u003e\n",
              "      \u003ctd\u003e0.581868\u003c/td\u003e\n",
              "      \u003ctd\u003e0.537239\u003c/td\u003e\n",
              "      \u003ctd\u003e-4.885428\u003c/td\u003e\n",
              "    \u003c/tr\u003e\n",
              "    \u003ctr\u003e\n",
              "      \u003cth\u003e3\u003c/th\u003e\n",
              "      \u003ctd\u003e-0.290324\u003c/td\u003e\n",
              "      \u003ctd\u003e0.028696\u003c/td\u003e\n",
              "      \u003ctd\u003e1\u003c/td\u003e\n",
              "      \u003ctd\u003e-0.290324\u003c/td\u003e\n",
              "      \u003ctd\u003e0.601365\u003c/td\u003e\n",
              "      \u003ctd\u003e-0.564527\u003c/td\u003e\n",
              "      \u003ctd\u003e-1.167952\u003c/td\u003e\n",
              "      \u003ctd\u003e-1.022002\u003c/td\u003e\n",
              "      \u003ctd\u003e-1.419971\u003c/td\u003e\n",
              "    \u003c/tr\u003e\n",
              "    \u003ctr\u003e\n",
              "      \u003cth\u003e4\u003c/th\u003e\n",
              "      \u003ctd\u003e-0.533744\u003c/td\u003e\n",
              "      \u003ctd\u003e-0.264956\u003c/td\u003e\n",
              "      \u003ctd\u003e1\u003c/td\u003e\n",
              "      \u003ctd\u003e-0.533744\u003c/td\u003e\n",
              "      \u003ctd\u003e-1.350432\u003c/td\u003e\n",
              "      \u003ctd\u003e0.230094\u003c/td\u003e\n",
              "      \u003ctd\u003e0.894855\u003c/td\u003e\n",
              "      \u003ctd\u003e1.370760\u003c/td\u003e\n",
              "      \u003ctd\u003e-2.258228\u003c/td\u003e\n",
              "    \u003c/tr\u003e\n",
              "    \u003ctr\u003e\n",
              "      \u003cth\u003e...\u003c/th\u003e\n",
              "      \u003ctd\u003e...\u003c/td\u003e\n",
              "      \u003ctd\u003e...\u003c/td\u003e\n",
              "      \u003ctd\u003e...\u003c/td\u003e\n",
              "      \u003ctd\u003e...\u003c/td\u003e\n",
              "      \u003ctd\u003e...\u003c/td\u003e\n",
              "      \u003ctd\u003e...\u003c/td\u003e\n",
              "      \u003ctd\u003e...\u003c/td\u003e\n",
              "      \u003ctd\u003e...\u003c/td\u003e\n",
              "      \u003ctd\u003e...\u003c/td\u003e\n",
              "    \u003c/tr\u003e\n",
              "    \u003ctr\u003e\n",
              "      \u003cth\u003e9995\u003c/th\u003e\n",
              "      \u003ctd\u003e0.014323\u003c/td\u003e\n",
              "      \u003ctd\u003e-0.241051\u003c/td\u003e\n",
              "      \u003ctd\u003e1\u003c/td\u003e\n",
              "      \u003ctd\u003e0.014323\u003c/td\u003e\n",
              "      \u003ctd\u003e1.665111\u003c/td\u003e\n",
              "      \u003ctd\u003e-1.017854\u003c/td\u003e\n",
              "      \u003ctd\u003e-1.210490\u003c/td\u003e\n",
              "      \u003ctd\u003e-0.471459\u003c/td\u003e\n",
              "      \u003ctd\u003e-0.910389\u003c/td\u003e\n",
              "    \u003c/tr\u003e\n",
              "    \u003ctr\u003e\n",
              "      \u003cth\u003e9996\u003c/th\u003e\n",
              "      \u003ctd\u003e-1.412006\u003c/td\u003e\n",
              "      \u003ctd\u003e-1.391911\u003c/td\u003e\n",
              "      \u003ctd\u003e0\u003c/td\u003e\n",
              "      \u003ctd\u003e-1.412006\u003c/td\u003e\n",
              "      \u003ctd\u003e-0.889559\u003c/td\u003e\n",
              "      \u003ctd\u003e0.286160\u003c/td\u003e\n",
              "      \u003ctd\u003e-0.717899\u003c/td\u003e\n",
              "      \u003ctd\u003e-0.185257\u003c/td\u003e\n",
              "      \u003ctd\u003e-6.616156\u003c/td\u003e\n",
              "    \u003c/tr\u003e\n",
              "    \u003ctr\u003e\n",
              "      \u003cth\u003e9997\u003c/th\u003e\n",
              "      \u003ctd\u003e-1.574446\u003c/td\u003e\n",
              "      \u003ctd\u003e-1.485788\u003c/td\u003e\n",
              "      \u003ctd\u003e1\u003c/td\u003e\n",
              "      \u003ctd\u003e-1.574446\u003c/td\u003e\n",
              "      \u003ctd\u003e-0.798709\u003c/td\u003e\n",
              "      \u003ctd\u003e0.159415\u003c/td\u003e\n",
              "      \u003ctd\u003e-0.751403\u003c/td\u003e\n",
              "      \u003ctd\u003e-1.884470\u003c/td\u003e\n",
              "      \u003ctd\u003e-7.731170\u003c/td\u003e\n",
              "    \u003c/tr\u003e\n",
              "    \u003ctr\u003e\n",
              "      \u003cth\u003e9998\u003c/th\u003e\n",
              "      \u003ctd\u003e0.178639\u003c/td\u003e\n",
              "      \u003ctd\u003e0.172208\u003c/td\u003e\n",
              "      \u003ctd\u003e0\u003c/td\u003e\n",
              "      \u003ctd\u003e0.178639\u003c/td\u003e\n",
              "      \u003ctd\u003e0.678814\u003c/td\u003e\n",
              "      \u003ctd\u003e-2.442013\u003c/td\u003e\n",
              "      \u003ctd\u003e-0.698395\u003c/td\u003e\n",
              "      \u003ctd\u003e0.538507\u003c/td\u003e\n",
              "      \u003ctd\u003e0.428577\u003c/td\u003e\n",
              "    \u003c/tr\u003e\n",
              "    \u003ctr\u003e\n",
              "      \u003cth\u003e9999\u003c/th\u003e\n",
              "      \u003ctd\u003e-1.222433\u003c/td\u003e\n",
              "      \u003ctd\u003e-1.027087\u003c/td\u003e\n",
              "      \u003ctd\u003e0\u003c/td\u003e\n",
              "      \u003ctd\u003e-1.222433\u003c/td\u003e\n",
              "      \u003ctd\u003e-1.605627\u003c/td\u003e\n",
              "      \u003ctd\u003e-0.610532\u003c/td\u003e\n",
              "      \u003ctd\u003e-0.653559\u003c/td\u003e\n",
              "      \u003ctd\u003e0.228353\u003c/td\u003e\n",
              "      \u003ctd\u003e-5.261692\u003c/td\u003e\n",
              "    \u003c/tr\u003e\n",
              "  \u003c/tbody\u003e\n",
              "\u003c/table\u003e\n",
              "\u003cp\u003e10000 rows × 9 columns\u003c/p\u003e\n",
              "\u003c/div\u003e"
            ],
            "text/plain": [
              "      collinear_var2a  collinear_var2b  var1  ...   random2   random3     target\n",
              "0            2.190202         2.417151     1  ...  0.442698  0.623391  10.714125\n",
              "1            0.394249         0.446755     1  ...  0.805458  0.416443   2.141358\n",
              "2           -1.101671        -0.952587     1  ...  0.581868  0.537239  -4.885428\n",
              "3           -0.290324         0.028696     1  ... -1.167952 -1.022002  -1.419971\n",
              "4           -0.533744        -0.264956     1  ...  0.894855  1.370760  -2.258228\n",
              "...               ...              ...   ...  ...       ...       ...        ...\n",
              "9995         0.014323        -0.241051     1  ... -1.210490 -0.471459  -0.910389\n",
              "9996        -1.412006        -1.391911     0  ... -0.717899 -0.185257  -6.616156\n",
              "9997        -1.574446        -1.485788     1  ... -0.751403 -1.884470  -7.731170\n",
              "9998         0.178639         0.172208     0  ... -0.698395  0.538507   0.428577\n",
              "9999        -1.222433        -1.027087     0  ... -0.653559  0.228353  -5.261692\n",
              "\n",
              "[10000 rows x 9 columns]"
            ]
          },
          "execution_count": 161,
          "metadata": {
            "tags": []
          },
          "output_type": "execute_result"
        }
      ],
      "source": [
        "inference_data.address_low_variance(threshold=0, drop=True)"
      ]
    },
    {
      "cell_type": "markdown",
      "metadata": {
        "id": "2Xovnp1u6gUS"
      },
      "source": [
        "### Addressing Collinearity with Variance Inflation Factor (VIF)\n",
        "In the example above, collinear columns are interfering with recovering the real effect. The method `address_collinearity_with_vif(address_collinearity_with_vif(sequential=True, interactive=False, vif_threshold=10, drop=True)` uses [VIF](https://en.wikipedia.org/wiki/Variance_inflation_factor). to identify columns that are collinear and option to drop them and retain only one."
      ]
    },
    {
      "cell_type": "code",
      "execution_count": 163,
      "metadata": {
        "colab": {
          "height": 419
        },
        "executionInfo": {
          "elapsed": 510,
          "status": "ok",
          "timestamp": 1611311961254,
          "user": {
            "displayName": "",
            "photoUrl": "",
            "userId": ""
          },
          "user_tz": 0
        },
        "id": "7a_z7L2iUXNp",
        "outputId": "f1093632-b1a0-48ca-9280-5dba06011c46"
      },
      "outputs": [
        {
          "data": {
            "text/html": [
              "\u003cdiv\u003e\n",
              "\u003cstyle scoped\u003e\n",
              "    .dataframe tbody tr th:only-of-type {\n",
              "        vertical-align: middle;\n",
              "    }\n",
              "\n",
              "    .dataframe tbody tr th {\n",
              "        vertical-align: top;\n",
              "    }\n",
              "\n",
              "    .dataframe thead th {\n",
              "        text-align: right;\n",
              "    }\n",
              "\u003c/style\u003e\n",
              "\u003ctable border=\"1\" class=\"dataframe\"\u003e\n",
              "  \u003cthead\u003e\n",
              "    \u003ctr style=\"text-align: right;\"\u003e\n",
              "      \u003cth\u003e\u003c/th\u003e\n",
              "      \u003cth\u003ecollinear_var2b\u003c/th\u003e\n",
              "      \u003cth\u003evar1\u003c/th\u003e\n",
              "      \u003cth\u003evar3\u003c/th\u003e\n",
              "      \u003cth\u003erandom1\u003c/th\u003e\n",
              "      \u003cth\u003erandom2\u003c/th\u003e\n",
              "      \u003cth\u003erandom3\u003c/th\u003e\n",
              "      \u003cth\u003etarget\u003c/th\u003e\n",
              "    \u003c/tr\u003e\n",
              "  \u003c/thead\u003e\n",
              "  \u003ctbody\u003e\n",
              "    \u003ctr\u003e\n",
              "      \u003cth\u003e0\u003c/th\u003e\n",
              "      \u003ctd\u003e2.417151\u003c/td\u003e\n",
              "      \u003ctd\u003e1\u003c/td\u003e\n",
              "      \u003ctd\u003e-0.134892\u003c/td\u003e\n",
              "      \u003ctd\u003e0.160518\u003c/td\u003e\n",
              "      \u003ctd\u003e0.442698\u003c/td\u003e\n",
              "      \u003ctd\u003e0.623391\u003c/td\u003e\n",
              "      \u003ctd\u003e10.714125\u003c/td\u003e\n",
              "    \u003c/tr\u003e\n",
              "    \u003ctr\u003e\n",
              "      \u003cth\u003e1\u003c/th\u003e\n",
              "      \u003ctd\u003e0.446755\u003c/td\u003e\n",
              "      \u003ctd\u003e1\u003c/td\u003e\n",
              "      \u003ctd\u003e-0.336387\u003c/td\u003e\n",
              "      \u003ctd\u003e-0.645906\u003c/td\u003e\n",
              "      \u003ctd\u003e0.805458\u003c/td\u003e\n",
              "      \u003ctd\u003e0.416443\u003c/td\u003e\n",
              "      \u003ctd\u003e2.141358\u003c/td\u003e\n",
              "    \u003c/tr\u003e\n",
              "    \u003ctr\u003e\n",
              "      \u003cth\u003e2\u003c/th\u003e\n",
              "      \u003ctd\u003e-0.952587\u003c/td\u003e\n",
              "      \u003ctd\u003e1\u003c/td\u003e\n",
              "      \u003ctd\u003e-0.994757\u003c/td\u003e\n",
              "      \u003ctd\u003e1.345519\u003c/td\u003e\n",
              "      \u003ctd\u003e0.581868\u003c/td\u003e\n",
              "      \u003ctd\u003e0.537239\u003c/td\u003e\n",
              "      \u003ctd\u003e-4.885428\u003c/td\u003e\n",
              "    \u003c/tr\u003e\n",
              "    \u003ctr\u003e\n",
              "      \u003cth\u003e3\u003c/th\u003e\n",
              "      \u003ctd\u003e0.028696\u003c/td\u003e\n",
              "      \u003ctd\u003e1\u003c/td\u003e\n",
              "      \u003ctd\u003e0.601365\u003c/td\u003e\n",
              "      \u003ctd\u003e-0.564527\u003c/td\u003e\n",
              "      \u003ctd\u003e-1.167952\u003c/td\u003e\n",
              "      \u003ctd\u003e-1.022002\u003c/td\u003e\n",
              "      \u003ctd\u003e-1.419971\u003c/td\u003e\n",
              "    \u003c/tr\u003e\n",
              "    \u003ctr\u003e\n",
              "      \u003cth\u003e4\u003c/th\u003e\n",
              "      \u003ctd\u003e-0.264956\u003c/td\u003e\n",
              "      \u003ctd\u003e1\u003c/td\u003e\n",
              "      \u003ctd\u003e-1.350432\u003c/td\u003e\n",
              "      \u003ctd\u003e0.230094\u003c/td\u003e\n",
              "      \u003ctd\u003e0.894855\u003c/td\u003e\n",
              "      \u003ctd\u003e1.370760\u003c/td\u003e\n",
              "      \u003ctd\u003e-2.258228\u003c/td\u003e\n",
              "    \u003c/tr\u003e\n",
              "    \u003ctr\u003e\n",
              "      \u003cth\u003e...\u003c/th\u003e\n",
              "      \u003ctd\u003e...\u003c/td\u003e\n",
              "      \u003ctd\u003e...\u003c/td\u003e\n",
              "      \u003ctd\u003e...\u003c/td\u003e\n",
              "      \u003ctd\u003e...\u003c/td\u003e\n",
              "      \u003ctd\u003e...\u003c/td\u003e\n",
              "      \u003ctd\u003e...\u003c/td\u003e\n",
              "      \u003ctd\u003e...\u003c/td\u003e\n",
              "    \u003c/tr\u003e\n",
              "    \u003ctr\u003e\n",
              "      \u003cth\u003e9995\u003c/th\u003e\n",
              "      \u003ctd\u003e-0.241051\u003c/td\u003e\n",
              "      \u003ctd\u003e1\u003c/td\u003e\n",
              "      \u003ctd\u003e1.665111\u003c/td\u003e\n",
              "      \u003ctd\u003e-1.017854\u003c/td\u003e\n",
              "      \u003ctd\u003e-1.210490\u003c/td\u003e\n",
              "      \u003ctd\u003e-0.471459\u003c/td\u003e\n",
              "      \u003ctd\u003e-0.910389\u003c/td\u003e\n",
              "    \u003c/tr\u003e\n",
              "    \u003ctr\u003e\n",
              "      \u003cth\u003e9996\u003c/th\u003e\n",
              "      \u003ctd\u003e-1.391911\u003c/td\u003e\n",
              "      \u003ctd\u003e0\u003c/td\u003e\n",
              "      \u003ctd\u003e-0.889559\u003c/td\u003e\n",
              "      \u003ctd\u003e0.286160\u003c/td\u003e\n",
              "      \u003ctd\u003e-0.717899\u003c/td\u003e\n",
              "      \u003ctd\u003e-0.185257\u003c/td\u003e\n",
              "      \u003ctd\u003e-6.616156\u003c/td\u003e\n",
              "    \u003c/tr\u003e\n",
              "    \u003ctr\u003e\n",
              "      \u003cth\u003e9997\u003c/th\u003e\n",
              "      \u003ctd\u003e-1.485788\u003c/td\u003e\n",
              "      \u003ctd\u003e1\u003c/td\u003e\n",
              "      \u003ctd\u003e-0.798709\u003c/td\u003e\n",
              "      \u003ctd\u003e0.159415\u003c/td\u003e\n",
              "      \u003ctd\u003e-0.751403\u003c/td\u003e\n",
              "      \u003ctd\u003e-1.884470\u003c/td\u003e\n",
              "      \u003ctd\u003e-7.731170\u003c/td\u003e\n",
              "    \u003c/tr\u003e\n",
              "    \u003ctr\u003e\n",
              "      \u003cth\u003e9998\u003c/th\u003e\n",
              "      \u003ctd\u003e0.172208\u003c/td\u003e\n",
              "      \u003ctd\u003e0\u003c/td\u003e\n",
              "      \u003ctd\u003e0.678814\u003c/td\u003e\n",
              "      \u003ctd\u003e-2.442013\u003c/td\u003e\n",
              "      \u003ctd\u003e-0.698395\u003c/td\u003e\n",
              "      \u003ctd\u003e0.538507\u003c/td\u003e\n",
              "      \u003ctd\u003e0.428577\u003c/td\u003e\n",
              "    \u003c/tr\u003e\n",
              "    \u003ctr\u003e\n",
              "      \u003cth\u003e9999\u003c/th\u003e\n",
              "      \u003ctd\u003e-1.027087\u003c/td\u003e\n",
              "      \u003ctd\u003e0\u003c/td\u003e\n",
              "      \u003ctd\u003e-1.605627\u003c/td\u003e\n",
              "      \u003ctd\u003e-0.610532\u003c/td\u003e\n",
              "      \u003ctd\u003e-0.653559\u003c/td\u003e\n",
              "      \u003ctd\u003e0.228353\u003c/td\u003e\n",
              "      \u003ctd\u003e-5.261692\u003c/td\u003e\n",
              "    \u003c/tr\u003e\n",
              "  \u003c/tbody\u003e\n",
              "\u003c/table\u003e\n",
              "\u003cp\u003e10000 rows × 7 columns\u003c/p\u003e\n",
              "\u003c/div\u003e"
            ],
            "text/plain": [
              "      collinear_var2b  var1      var3   random1   random2   random3     target\n",
              "0            2.417151     1 -0.134892  0.160518  0.442698  0.623391  10.714125\n",
              "1            0.446755     1 -0.336387 -0.645906  0.805458  0.416443   2.141358\n",
              "2           -0.952587     1 -0.994757  1.345519  0.581868  0.537239  -4.885428\n",
              "3            0.028696     1  0.601365 -0.564527 -1.167952 -1.022002  -1.419971\n",
              "4           -0.264956     1 -1.350432  0.230094  0.894855  1.370760  -2.258228\n",
              "...               ...   ...       ...       ...       ...       ...        ...\n",
              "9995        -0.241051     1  1.665111 -1.017854 -1.210490 -0.471459  -0.910389\n",
              "9996        -1.391911     0 -0.889559  0.286160 -0.717899 -0.185257  -6.616156\n",
              "9997        -1.485788     1 -0.798709  0.159415 -0.751403 -1.884470  -7.731170\n",
              "9998         0.172208     0  0.678814 -2.442013 -0.698395  0.538507   0.428577\n",
              "9999        -1.027087     0 -1.605627 -0.610532 -0.653559  0.228353  -5.261692\n",
              "\n",
              "[10000 rows x 7 columns]"
            ]
          },
          "execution_count": 163,
          "metadata": {
            "tags": []
          },
          "output_type": "execute_result"
        }
      ],
      "source": [
        "inference_data.address_collinearity_with_vif(sequential=True,\n",
        "                                             interactive=False,\n",
        "                                             vif_threshold=10,\n",
        "                                             drop=True)"
      ]
    },
    {
      "cell_type": "markdown",
      "metadata": {
        "id": "1QdO2qHx8bON"
      },
      "source": [
        "Collinearity is always tricky to address, the options usually are:\n",
        "* Iteratively eliminate collinear variables one at time until collinearity is removed\n",
        "* Create casual graphs to map dependencies between variables and include one per collinear group\n",
        "* Remove all collinear variables\n",
        "\n",
        "In our example `var2`, `collinear_var2a` and `collinear_var2b` are all collinear with each others. We've decided to went for option one and because the elimination process in VIF is random, `collinear_var2b` was selected. Unfortunately, there is no way know that `var2` should be retain instead of `collinear_var2b` with this approach."
      ]
    },
    {
      "cell_type": "markdown",
      "metadata": {
        "id": "4x1tmVKigWo6"
      },
      "source": [
        "### Results\n",
        "\n",
        "With data better suited for recovering the real effects, these are more much closer to the real one. Fitting bootstrap and permutation test will also give you tools to reject or accept theses."
      ]
    },
    {
      "cell_type": "code",
      "execution_count": 164,
      "metadata": {
        "colab": {
          "height": 300
        },
        "executionInfo": {
          "elapsed": 388,
          "status": "ok",
          "timestamp": 1611311967823,
          "user": {
            "displayName": "",
            "photoUrl": "",
            "userId": ""
          },
          "user_tz": 0
        },
        "id": "1XAq_lbzSksI",
        "outputId": "013213e1-50aa-42e4-febf-7d8d7f0b1c53"
      },
      "outputs": [
        {
          "name": "stderr",
          "output_type": "stream",
          "text": [
            "/google_src/head/depot/google3/third_party/gps_building_blocks/py/ml/statistical_inference/data_preparation.py:301: ControlVariableWarning: The data is not controlling for external factors. Consider using `fixed_effect` indicating the columns to use as controlfor external factors.\n",
            "  warnings.warn(ControlVariableWarning(message))\n"
          ]
        },
        {
          "data": {
            "text/html": [
              "\u003cdiv\u003e\n",
              "\u003cstyle scoped\u003e\n",
              "    .dataframe tbody tr th:only-of-type {\n",
              "        vertical-align: middle;\n",
              "    }\n",
              "\n",
              "    .dataframe tbody tr th {\n",
              "        vertical-align: top;\n",
              "    }\n",
              "\n",
              "    .dataframe thead th {\n",
              "        text-align: right;\n",
              "    }\n",
              "\u003c/style\u003e\n",
              "\u003ctable border=\"1\" class=\"dataframe\"\u003e\n",
              "  \u003cthead\u003e\n",
              "    \u003ctr style=\"text-align: right;\"\u003e\n",
              "      \u003cth\u003e\u003c/th\u003e\n",
              "      \u003cth\u003eeffect\u003c/th\u003e\n",
              "      \u003cth\u003ebootstrap_std\u003c/th\u003e\n",
              "      \u003cth\u003econfidence_interval\u003c/th\u003e\n",
              "      \u003cth\u003esignificant_bootstrap\u003c/th\u003e\n",
              "      \u003cth\u003esignificant_permutation\u003c/th\u003e\n",
              "    \u003c/tr\u003e\n",
              "  \u003c/thead\u003e\n",
              "  \u003ctbody\u003e\n",
              "    \u003ctr\u003e\n",
              "      \u003cth\u003ecollinear_var2b\u003c/th\u003e\n",
              "      \u003ctd\u003e4.904334\u003c/td\u003e\n",
              "      \u003ctd\u003eNaN\u003c/td\u003e\n",
              "      \u003ctd\u003eNaN\u003c/td\u003e\n",
              "      \u003ctd\u003eNaN\u003c/td\u003e\n",
              "      \u003ctd\u003eNaN\u003c/td\u003e\n",
              "    \u003c/tr\u003e\n",
              "    \u003ctr\u003e\n",
              "      \u003cth\u003evar3\u003c/th\u003e\n",
              "      \u003ctd\u003e-0.482256\u003c/td\u003e\n",
              "      \u003ctd\u003eNaN\u003c/td\u003e\n",
              "      \u003ctd\u003eNaN\u003c/td\u003e\n",
              "      \u003ctd\u003eNaN\u003c/td\u003e\n",
              "      \u003ctd\u003eNaN\u003c/td\u003e\n",
              "    \u003c/tr\u003e\n",
              "    \u003ctr\u003e\n",
              "      \u003cth\u003evar1\u003c/th\u003e\n",
              "      \u003ctd\u003e0.104903\u003c/td\u003e\n",
              "      \u003ctd\u003eNaN\u003c/td\u003e\n",
              "      \u003ctd\u003eNaN\u003c/td\u003e\n",
              "      \u003ctd\u003eNaN\u003c/td\u003e\n",
              "      \u003ctd\u003eNaN\u003c/td\u003e\n",
              "    \u003c/tr\u003e\n",
              "    \u003ctr\u003e\n",
              "      \u003cth\u003eIntercept\u003c/th\u003e\n",
              "      \u003ctd\u003e0.010774\u003c/td\u003e\n",
              "      \u003ctd\u003eNaN\u003c/td\u003e\n",
              "      \u003ctd\u003eNaN\u003c/td\u003e\n",
              "      \u003ctd\u003eNaN\u003c/td\u003e\n",
              "      \u003ctd\u003eNaN\u003c/td\u003e\n",
              "    \u003c/tr\u003e\n",
              "    \u003ctr\u003e\n",
              "      \u003cth\u003erandom1\u003c/th\u003e\n",
              "      \u003ctd\u003e0.009313\u003c/td\u003e\n",
              "      \u003ctd\u003eNaN\u003c/td\u003e\n",
              "      \u003ctd\u003eNaN\u003c/td\u003e\n",
              "      \u003ctd\u003eNaN\u003c/td\u003e\n",
              "      \u003ctd\u003eNaN\u003c/td\u003e\n",
              "    \u003c/tr\u003e\n",
              "    \u003ctr\u003e\n",
              "      \u003cth\u003erandom3\u003c/th\u003e\n",
              "      \u003ctd\u003e0.007440\u003c/td\u003e\n",
              "      \u003ctd\u003eNaN\u003c/td\u003e\n",
              "      \u003ctd\u003eNaN\u003c/td\u003e\n",
              "      \u003ctd\u003eNaN\u003c/td\u003e\n",
              "      \u003ctd\u003eNaN\u003c/td\u003e\n",
              "    \u003c/tr\u003e\n",
              "    \u003ctr\u003e\n",
              "      \u003cth\u003erandom2\u003c/th\u003e\n",
              "      \u003ctd\u003e0.003916\u003c/td\u003e\n",
              "      \u003ctd\u003eNaN\u003c/td\u003e\n",
              "      \u003ctd\u003eNaN\u003c/td\u003e\n",
              "      \u003ctd\u003eNaN\u003c/td\u003e\n",
              "      \u003ctd\u003eNaN\u003c/td\u003e\n",
              "    \u003c/tr\u003e\n",
              "  \u003c/tbody\u003e\n",
              "\u003c/table\u003e\n",
              "\u003c/div\u003e"
            ],
            "text/plain": [
              "                   effect  ...  significant_permutation\n",
              "collinear_var2b  4.904334  ...                      NaN\n",
              "var3            -0.482256  ...                      NaN\n",
              "var1             0.104903  ...                      NaN\n",
              "Intercept        0.010774  ...                      NaN\n",
              "random1          0.009313  ...                      NaN\n",
              "random3          0.007440  ...                      NaN\n",
              "random2          0.003916  ...                      NaN\n",
              "\n",
              "[7 rows x 5 columns]"
            ]
          },
          "execution_count": 164,
          "metadata": {
            "tags": []
          },
          "output_type": "execute_result"
        }
      ],
      "source": [
        "less_naive_model = models.InferenceRidge(alpha=100)\n",
        "less_naive_model.fit(inference_data, raise_on_data_error=False)\n",
        "less_naive_model.get_results()"
      ]
    },
    {
      "cell_type": "code",
      "execution_count": 165,
      "metadata": {
        "colab": {
          "height": 266
        },
        "executionInfo": {
          "elapsed": 679,
          "status": "ok",
          "timestamp": 1611311975216,
          "user": {
            "displayName": "",
            "photoUrl": "",
            "userId": ""
          },
          "user_tz": 0
        },
        "id": "7oviwr8KDSrQ",
        "outputId": "ab317918-bdc2-448c-a55f-b64c5d9cd0bb"
      },
      "outputs": [
        {
          "data": {
            "text/html": [
              "\u003cdiv\u003e\n",
              "\u003cstyle scoped\u003e\n",
              "    .dataframe tbody tr th:only-of-type {\n",
              "        vertical-align: middle;\n",
              "    }\n",
              "\n",
              "    .dataframe tbody tr th {\n",
              "        vertical-align: top;\n",
              "    }\n",
              "\n",
              "    .dataframe thead th {\n",
              "        text-align: right;\n",
              "    }\n",
              "\u003c/style\u003e\n",
              "\u003ctable border=\"1\" class=\"dataframe\"\u003e\n",
              "  \u003cthead\u003e\n",
              "    \u003ctr style=\"text-align: right;\"\u003e\n",
              "      \u003cth\u003e\u003c/th\u003e\n",
              "      \u003cth\u003eeffect\u003c/th\u003e\n",
              "      \u003cth\u003ebootstrap_std\u003c/th\u003e\n",
              "      \u003cth\u003econfidence_interval\u003c/th\u003e\n",
              "      \u003cth\u003esignificant_bootstrap\u003c/th\u003e\n",
              "      \u003cth\u003esignificant_permutation\u003c/th\u003e\n",
              "    \u003c/tr\u003e\n",
              "  \u003c/thead\u003e\n",
              "  \u003ctbody\u003e\n",
              "    \u003ctr\u003e\n",
              "      \u003cth\u003ecollinear_var2b\u003c/th\u003e\n",
              "      \u003ctd\u003e4.904590\u003c/td\u003e\n",
              "      \u003ctd\u003e0.007783\u003c/td\u003e\n",
              "      \u003ctd\u003e0.012801\u003c/td\u003e\n",
              "      \u003ctd\u003eTrue\u003c/td\u003e\n",
              "      \u003ctd\u003eNaN\u003c/td\u003e\n",
              "    \u003c/tr\u003e\n",
              "    \u003ctr\u003e\n",
              "      \u003cth\u003evar3\u003c/th\u003e\n",
              "      \u003ctd\u003e-0.480768\u003c/td\u003e\n",
              "      \u003ctd\u003e0.007996\u003c/td\u003e\n",
              "      \u003ctd\u003e0.013151\u003c/td\u003e\n",
              "      \u003ctd\u003eTrue\u003c/td\u003e\n",
              "      \u003ctd\u003eNaN\u003c/td\u003e\n",
              "    \u003c/tr\u003e\n",
              "    \u003ctr\u003e\n",
              "      \u003cth\u003evar1\u003c/th\u003e\n",
              "      \u003ctd\u003e0.106630\u003c/td\u003e\n",
              "      \u003ctd\u003e0.014915\u003c/td\u003e\n",
              "      \u003ctd\u003e0.024534\u003c/td\u003e\n",
              "      \u003ctd\u003eTrue\u003c/td\u003e\n",
              "      \u003ctd\u003eNaN\u003c/td\u003e\n",
              "    \u003c/tr\u003e\n",
              "    \u003ctr\u003e\n",
              "      \u003cth\u003eIntercept\u003c/th\u003e\n",
              "      \u003ctd\u003e0.011219\u003c/td\u003e\n",
              "      \u003ctd\u003e0.011013\u003c/td\u003e\n",
              "      \u003ctd\u003e0.018115\u003c/td\u003e\n",
              "      \u003ctd\u003eFalse\u003c/td\u003e\n",
              "      \u003ctd\u003eNaN\u003c/td\u003e\n",
              "    \u003c/tr\u003e\n",
              "    \u003ctr\u003e\n",
              "      \u003cth\u003erandom1\u003c/th\u003e\n",
              "      \u003ctd\u003e0.010441\u003c/td\u003e\n",
              "      \u003ctd\u003e0.007204\u003c/td\u003e\n",
              "      \u003ctd\u003e0.011850\u003c/td\u003e\n",
              "      \u003ctd\u003eFalse\u003c/td\u003e\n",
              "      \u003ctd\u003eNaN\u003c/td\u003e\n",
              "    \u003c/tr\u003e\n",
              "    \u003ctr\u003e\n",
              "      \u003cth\u003erandom3\u003c/th\u003e\n",
              "      \u003ctd\u003e0.007660\u003c/td\u003e\n",
              "      \u003ctd\u003e0.007228\u003c/td\u003e\n",
              "      \u003ctd\u003e0.011889\u003c/td\u003e\n",
              "      \u003ctd\u003eFalse\u003c/td\u003e\n",
              "      \u003ctd\u003eNaN\u003c/td\u003e\n",
              "    \u003c/tr\u003e\n",
              "    \u003ctr\u003e\n",
              "      \u003cth\u003erandom2\u003c/th\u003e\n",
              "      \u003ctd\u003e0.003331\u003c/td\u003e\n",
              "      \u003ctd\u003e0.007919\u003c/td\u003e\n",
              "      \u003ctd\u003e0.013025\u003c/td\u003e\n",
              "      \u003ctd\u003eFalse\u003c/td\u003e\n",
              "      \u003ctd\u003eNaN\u003c/td\u003e\n",
              "    \u003c/tr\u003e\n",
              "  \u003c/tbody\u003e\n",
              "\u003c/table\u003e\n",
              "\u003c/div\u003e"
            ],
            "text/plain": [
              "                   effect  ...  significant_permutation\n",
              "collinear_var2b  4.904590  ...                      NaN\n",
              "var3            -0.480768  ...                      NaN\n",
              "var1             0.106630  ...                      NaN\n",
              "Intercept        0.011219  ...                      NaN\n",
              "random1          0.010441  ...                      NaN\n",
              "random3          0.007660  ...                      NaN\n",
              "random2          0.003331  ...                      NaN\n",
              "\n",
              "[7 rows x 5 columns]"
            ]
          },
          "execution_count": 165,
          "metadata": {
            "tags": []
          },
          "output_type": "execute_result"
        }
      ],
      "source": [
        "less_naive_model.fit_bootstrap(50, n_jobs=1, verbose=False)\n",
        "less_naive_model.get_results()"
      ]
    },
    {
      "cell_type": "code",
      "execution_count": 166,
      "metadata": {
        "colab": {
          "height": 266
        },
        "executionInfo": {
          "elapsed": 592,
          "status": "ok",
          "timestamp": 1611311976930,
          "user": {
            "displayName": "",
            "photoUrl": "",
            "userId": ""
          },
          "user_tz": 0
        },
        "id": "QB7nIhy1tb2R",
        "outputId": "6ccb37c1-123e-4ff3-9b13-e96392696540"
      },
      "outputs": [
        {
          "data": {
            "text/html": [
              "\u003cdiv\u003e\n",
              "\u003cstyle scoped\u003e\n",
              "    .dataframe tbody tr th:only-of-type {\n",
              "        vertical-align: middle;\n",
              "    }\n",
              "\n",
              "    .dataframe tbody tr th {\n",
              "        vertical-align: top;\n",
              "    }\n",
              "\n",
              "    .dataframe thead th {\n",
              "        text-align: right;\n",
              "    }\n",
              "\u003c/style\u003e\n",
              "\u003ctable border=\"1\" class=\"dataframe\"\u003e\n",
              "  \u003cthead\u003e\n",
              "    \u003ctr style=\"text-align: right;\"\u003e\n",
              "      \u003cth\u003e\u003c/th\u003e\n",
              "      \u003cth\u003eeffect\u003c/th\u003e\n",
              "      \u003cth\u003ebootstrap_std\u003c/th\u003e\n",
              "      \u003cth\u003econfidence_interval\u003c/th\u003e\n",
              "      \u003cth\u003esignificant_bootstrap\u003c/th\u003e\n",
              "      \u003cth\u003esignificant_permutation\u003c/th\u003e\n",
              "    \u003c/tr\u003e\n",
              "  \u003c/thead\u003e\n",
              "  \u003ctbody\u003e\n",
              "    \u003ctr\u003e\n",
              "      \u003cth\u003ecollinear_var2b\u003c/th\u003e\n",
              "      \u003ctd\u003e4.904590\u003c/td\u003e\n",
              "      \u003ctd\u003e0.007783\u003c/td\u003e\n",
              "      \u003ctd\u003e0.012801\u003c/td\u003e\n",
              "      \u003ctd\u003eTrue\u003c/td\u003e\n",
              "      \u003ctd\u003eTrue\u003c/td\u003e\n",
              "    \u003c/tr\u003e\n",
              "    \u003ctr\u003e\n",
              "      \u003cth\u003evar3\u003c/th\u003e\n",
              "      \u003ctd\u003e-0.480768\u003c/td\u003e\n",
              "      \u003ctd\u003e0.007996\u003c/td\u003e\n",
              "      \u003ctd\u003e0.013151\u003c/td\u003e\n",
              "      \u003ctd\u003eTrue\u003c/td\u003e\n",
              "      \u003ctd\u003eTrue\u003c/td\u003e\n",
              "    \u003c/tr\u003e\n",
              "    \u003ctr\u003e\n",
              "      \u003cth\u003evar1\u003c/th\u003e\n",
              "      \u003ctd\u003e0.106630\u003c/td\u003e\n",
              "      \u003ctd\u003e0.014915\u003c/td\u003e\n",
              "      \u003ctd\u003e0.024534\u003c/td\u003e\n",
              "      \u003ctd\u003eTrue\u003c/td\u003e\n",
              "      \u003ctd\u003eFalse\u003c/td\u003e\n",
              "    \u003c/tr\u003e\n",
              "    \u003ctr\u003e\n",
              "      \u003cth\u003eIntercept\u003c/th\u003e\n",
              "      \u003ctd\u003e0.011219\u003c/td\u003e\n",
              "      \u003ctd\u003e0.011013\u003c/td\u003e\n",
              "      \u003ctd\u003e0.018115\u003c/td\u003e\n",
              "      \u003ctd\u003eFalse\u003c/td\u003e\n",
              "      \u003ctd\u003eFalse\u003c/td\u003e\n",
              "    \u003c/tr\u003e\n",
              "    \u003ctr\u003e\n",
              "      \u003cth\u003erandom1\u003c/th\u003e\n",
              "      \u003ctd\u003e0.010441\u003c/td\u003e\n",
              "      \u003ctd\u003e0.007204\u003c/td\u003e\n",
              "      \u003ctd\u003e0.011850\u003c/td\u003e\n",
              "      \u003ctd\u003eFalse\u003c/td\u003e\n",
              "      \u003ctd\u003eFalse\u003c/td\u003e\n",
              "    \u003c/tr\u003e\n",
              "    \u003ctr\u003e\n",
              "      \u003cth\u003erandom3\u003c/th\u003e\n",
              "      \u003ctd\u003e0.007660\u003c/td\u003e\n",
              "      \u003ctd\u003e0.007228\u003c/td\u003e\n",
              "      \u003ctd\u003e0.011889\u003c/td\u003e\n",
              "      \u003ctd\u003eFalse\u003c/td\u003e\n",
              "      \u003ctd\u003eFalse\u003c/td\u003e\n",
              "    \u003c/tr\u003e\n",
              "    \u003ctr\u003e\n",
              "      \u003cth\u003erandom2\u003c/th\u003e\n",
              "      \u003ctd\u003e0.003331\u003c/td\u003e\n",
              "      \u003ctd\u003e0.007919\u003c/td\u003e\n",
              "      \u003ctd\u003e0.013025\u003c/td\u003e\n",
              "      \u003ctd\u003eFalse\u003c/td\u003e\n",
              "      \u003ctd\u003eFalse\u003c/td\u003e\n",
              "    \u003c/tr\u003e\n",
              "  \u003c/tbody\u003e\n",
              "\u003c/table\u003e\n",
              "\u003c/div\u003e"
            ],
            "text/plain": [
              "                   effect  ...  significant_permutation\n",
              "collinear_var2b  4.904590  ...                     True\n",
              "var3            -0.480768  ...                     True\n",
              "var1             0.106630  ...                    False\n",
              "Intercept        0.011219  ...                    False\n",
              "random1          0.010441  ...                    False\n",
              "random3          0.007660  ...                    False\n",
              "random2          0.003331  ...                    False\n",
              "\n",
              "[7 rows x 5 columns]"
            ]
          },
          "execution_count": 166,
          "metadata": {
            "tags": []
          },
          "output_type": "execute_result"
        }
      ],
      "source": [
        "less_naive_model.permutation_test(50, n_jobs=1, verbose=False)\n",
        "less_naive_model.get_results()"
      ]
    },
    {
      "cell_type": "code",
      "execution_count": null,
      "metadata": {
        "id": "CTU0ueDqpP_z"
      },
      "outputs": [],
      "source": [
        ""
      ]
    }
  ],
  "metadata": {
    "colab": {
      "collapsed_sections": [],
      "last_runtime": {
        "build_target": "//corp/gtech/ads/infrastructure/colab_utils/ds_runtime:ds_colab",
        "kind": "private"
      },
      "name": "simple_simulation.ipynb",
      "provenance": [
        {
          "file_id": "1InaKxr0YFOCAHtTPmDXYNTOGslffWnwe",
          "timestamp": 1610621834032
        }
      ]
    },
    "kernelspec": {
      "display_name": "Python 3",
      "name": "python3"
    }
  },
  "nbformat": 4,
  "nbformat_minor": 0
}
